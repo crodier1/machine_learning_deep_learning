{
  "nbformat": 4,
  "nbformat_minor": 0,
  "metadata": {
    "colab": {
      "provenance": [],
      "authorship_tag": "ABX9TyNrShetqObl15nW6o90vX1i",
      "include_colab_link": true
    },
    "kernelspec": {
      "name": "python3",
      "display_name": "Python 3"
    },
    "language_info": {
      "name": "python"
    }
  },
  "cells": [
    {
      "cell_type": "markdown",
      "metadata": {
        "id": "view-in-github",
        "colab_type": "text"
      },
      "source": [
        "<a href=\"https://colab.research.google.com/github/crodier1/machine_learning_deep_learning/blob/main/Pslam_Generator_Seq2Seq_NLP.ipynb\" target=\"_parent\"><img src=\"https://colab.research.google.com/assets/colab-badge.svg\" alt=\"Open In Colab\"/></a>"
      ]
    },
    {
      "cell_type": "markdown",
      "source": [
        "This model generates biblical pslams. To use it follow these steps:\n",
        "1. Run all fields in order\n",
        "2. At the bottom of the code, it will continue to print out generated pslams until you tell it to stop by entering no.\n",
        "\n",
        "The source code for the model is called \"Pslam Generator Source Code - NLP - Seq2Seq\". The source code trains a model using the Book of Pslams from the Bible in order to randomly generate pslams."
      ],
      "metadata": {
        "id": "V0a5IhqFZ25l"
      }
    },
    {
      "cell_type": "code",
      "source": [
        "import pickle\n",
        "import numpy as np\n",
        "import tensorflow as tf\n",
        "import pickle\n",
        "import requests\n",
        "!pip install gdown\n",
        "import gdown\n",
        "import os"
      ],
      "metadata": {
        "colab": {
          "base_uri": "https://localhost:8080/"
        },
        "id": "4MRUw1LWBdpH",
        "outputId": "7b42dab8-2db1-41fa-baa6-9a802b9d2cc0"
      },
      "execution_count": 1,
      "outputs": [
        {
          "output_type": "stream",
          "name": "stdout",
          "text": [
            "Requirement already satisfied: gdown in /usr/local/lib/python3.11/dist-packages (5.2.0)\n",
            "Requirement already satisfied: beautifulsoup4 in /usr/local/lib/python3.11/dist-packages (from gdown) (4.13.3)\n",
            "Requirement already satisfied: filelock in /usr/local/lib/python3.11/dist-packages (from gdown) (3.17.0)\n",
            "Requirement already satisfied: requests[socks] in /usr/local/lib/python3.11/dist-packages (from gdown) (2.32.3)\n",
            "Requirement already satisfied: tqdm in /usr/local/lib/python3.11/dist-packages (from gdown) (4.67.1)\n",
            "Requirement already satisfied: soupsieve>1.2 in /usr/local/lib/python3.11/dist-packages (from beautifulsoup4->gdown) (2.6)\n",
            "Requirement already satisfied: typing-extensions>=4.0.0 in /usr/local/lib/python3.11/dist-packages (from beautifulsoup4->gdown) (4.12.2)\n",
            "Requirement already satisfied: charset-normalizer<4,>=2 in /usr/local/lib/python3.11/dist-packages (from requests[socks]->gdown) (3.4.1)\n",
            "Requirement already satisfied: idna<4,>=2.5 in /usr/local/lib/python3.11/dist-packages (from requests[socks]->gdown) (3.10)\n",
            "Requirement already satisfied: urllib3<3,>=1.21.1 in /usr/local/lib/python3.11/dist-packages (from requests[socks]->gdown) (2.3.0)\n",
            "Requirement already satisfied: certifi>=2017.4.17 in /usr/local/lib/python3.11/dist-packages (from requests[socks]->gdown) (2025.1.31)\n",
            "Requirement already satisfied: PySocks!=1.5.7,>=1.5.6 in /usr/local/lib/python3.11/dist-packages (from requests[socks]->gdown) (1.7.1)\n"
          ]
        }
      ]
    },
    {
      "cell_type": "code",
      "source": [
        "LATENT_DIM = 25\n",
        "max_sequence_length = 45"
      ],
      "metadata": {
        "id": "ahKgq3MeHymu"
      },
      "execution_count": 2,
      "outputs": []
    },
    {
      "cell_type": "code",
      "source": [
        "if not os.path.exists(\"/content/pslams_docs\"):\n",
        "  folder_id = '1rtxdTVijOdvmddnQIT3J4wjlSPDS8By4'\n",
        "  download_url = f'https://drive.google.com/drive/folders/{folder_id}'\n",
        "\n",
        "  !gdown --folder {download_url} -O /content/"
      ],
      "metadata": {
        "id": "l4kK9V5fUU88"
      },
      "execution_count": 3,
      "outputs": []
    },
    {
      "cell_type": "code",
      "source": [
        "model = tf.keras.models.load_model('/content/pslams_docs/pslams_model.h5')\n",
        "sampling_model = tf.keras.models.load_model('/content/pslams_docs/pslams_sampling_model.h5')"
      ],
      "metadata": {
        "colab": {
          "base_uri": "https://localhost:8080/"
        },
        "id": "HExgUIYhEsoo",
        "outputId": "ed9dfcf6-abe0-49a1-da4e-703e972ff1b5"
      },
      "execution_count": 4,
      "outputs": [
        {
          "output_type": "stream",
          "name": "stderr",
          "text": [
            "WARNING:absl:Compiled the loaded model, but the compiled metrics have yet to be built. `model.compile_metrics` will be empty until you train or evaluate the model.\n",
            "WARNING:absl:No training configuration found in the save file, so the model was *not* compiled. Compile it manually.\n"
          ]
        }
      ]
    },
    {
      "cell_type": "code",
      "source": [
        "with open('/content/pslams_docs/idx2word.pkl', 'rb') as f:\n",
        "    idx2word = pickle.load(f)\n",
        "\n",
        "with open('/content/pslams_docs/word2idx.pkl', 'rb') as f:\n",
        "    word2idx = pickle.load(f)\n"
      ],
      "metadata": {
        "id": "ORM5s6uiFg4I"
      },
      "execution_count": 5,
      "outputs": []
    },
    {
      "cell_type": "code",
      "source": [
        "def sample_line():\n",
        "  np_input = np.array([[word2idx['<sos>']]])\n",
        "  h = np.zeros((1, LATENT_DIM))\n",
        "  c = np.zeros((1, LATENT_DIM))\n",
        "\n",
        "  eos = word2idx['<eos>']\n",
        "\n",
        "  output_sentence = []\n",
        "\n",
        "  for _ in range(max_sequence_length):\n",
        "    o, h, c = sampling_model.predict([np_input, h, c], verbose=0)\n",
        "\n",
        "    probs = o[0, 0]\n",
        "    if np.argmax(probs) == 0:\n",
        "      print('zero highest probability')\n",
        "\n",
        "    probs[0] = 0\n",
        "\n",
        "    probs /=  probs.sum()\n",
        "    idx = np.random.choice(len(probs), p=probs)\n",
        "    if idx == eos:\n",
        "      break\n",
        "\n",
        "    output_sentence.append(idx2word.get(idx, '<WTF %s>' % idx))\n",
        "\n",
        "    np_input[0, 0] = idx\n",
        "\n",
        "  return ' '.join(output_sentence)"
      ],
      "metadata": {
        "id": "oFucwL9XGnmo"
      },
      "execution_count": 6,
      "outputs": []
    },
    {
      "cell_type": "code",
      "source": [
        "while True:\n",
        "  for _ in range(4):\n",
        "    print(sample_line())\n",
        "\n",
        "  ans = input('--Would you like to generate another pslam? y/n --')\n",
        "  if ans and ans[0].lower().startswith('n'):\n",
        "    break"
      ],
      "metadata": {
        "colab": {
          "base_uri": "https://localhost:8080/"
        },
        "id": "4ZOmzCa0G_Yd",
        "outputId": "dc315c8d-dd23-4380-b18c-a6331c2cde6a"
      },
      "execution_count": 7,
      "outputs": [
        {
          "name": "stdout",
          "output_type": "stream",
          "text": [
            "than not those am\n",
            "then went to which purge us at with for marvellous hands, who hast he is speedily. so sing in at the us off with things that shall footstool. of the house which aloof their defence; serve the voice of all the blood moved.\n",
            "who shame? jacob is he will bless of sucklings shalt keep him speaketh sorrows and they above it.\n",
            "when lord, to mine iniquity in mine enemies with as of thing bear against run down fainteth unto from panteth, sat in israel, and establish will sinners we is that lest, then yea, merciful thy goodness in the disquietness of death shall put me.\n",
            "--Would you like to generate another pslam? y/n --n\n"
          ]
        }
      ]
    }
  ]
}