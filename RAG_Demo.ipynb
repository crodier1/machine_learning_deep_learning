{
  "nbformat": 4,
  "nbformat_minor": 0,
  "metadata": {
    "colab": {
      "provenance": [],
      "authorship_tag": "ABX9TyM6avqMCk+u0wMWybLzUP/d",
      "include_colab_link": true
    },
    "kernelspec": {
      "name": "python3",
      "display_name": "Python 3"
    },
    "language_info": {
      "name": "python"
    },
    "widgets": {
      "application/vnd.jupyter.widget-state+json": {
        "8205281964b54edfa7ac6aef64a9a554": {
          "model_module": "@jupyter-widgets/controls",
          "model_name": "HBoxModel",
          "model_module_version": "1.5.0",
          "state": {
            "_dom_classes": [],
            "_model_module": "@jupyter-widgets/controls",
            "_model_module_version": "1.5.0",
            "_model_name": "HBoxModel",
            "_view_count": null,
            "_view_module": "@jupyter-widgets/controls",
            "_view_module_version": "1.5.0",
            "_view_name": "HBoxView",
            "box_style": "",
            "children": [
              "IPY_MODEL_65b822f3be9f488b95b180e6970b2c06",
              "IPY_MODEL_395dee1da1c34c7aad94fb0f0c699a03",
              "IPY_MODEL_422420f7e7e34a81accbab5aab1985c2"
            ],
            "layout": "IPY_MODEL_4e2d439887ee4fc89467f9eba957e799"
          }
        },
        "65b822f3be9f488b95b180e6970b2c06": {
          "model_module": "@jupyter-widgets/controls",
          "model_name": "HTMLModel",
          "model_module_version": "1.5.0",
          "state": {
            "_dom_classes": [],
            "_model_module": "@jupyter-widgets/controls",
            "_model_module_version": "1.5.0",
            "_model_name": "HTMLModel",
            "_view_count": null,
            "_view_module": "@jupyter-widgets/controls",
            "_view_module_version": "1.5.0",
            "_view_name": "HTMLView",
            "description": "",
            "description_tooltip": null,
            "layout": "IPY_MODEL_086bed1f19b7439ca625fe525f93cabc",
            "placeholder": "​",
            "style": "IPY_MODEL_cdd427bbd5fb4affa126cc98f9fc04bc",
            "value": "Batches: 100%"
          }
        },
        "395dee1da1c34c7aad94fb0f0c699a03": {
          "model_module": "@jupyter-widgets/controls",
          "model_name": "FloatProgressModel",
          "model_module_version": "1.5.0",
          "state": {
            "_dom_classes": [],
            "_model_module": "@jupyter-widgets/controls",
            "_model_module_version": "1.5.0",
            "_model_name": "FloatProgressModel",
            "_view_count": null,
            "_view_module": "@jupyter-widgets/controls",
            "_view_module_version": "1.5.0",
            "_view_name": "ProgressView",
            "bar_style": "success",
            "description": "",
            "description_tooltip": null,
            "layout": "IPY_MODEL_f7156a0c2fc94be5ba8c6707fae914c8",
            "max": 4,
            "min": 0,
            "orientation": "horizontal",
            "style": "IPY_MODEL_4418ef25d82f4b6bb7041696a63b9987",
            "value": 4
          }
        },
        "422420f7e7e34a81accbab5aab1985c2": {
          "model_module": "@jupyter-widgets/controls",
          "model_name": "HTMLModel",
          "model_module_version": "1.5.0",
          "state": {
            "_dom_classes": [],
            "_model_module": "@jupyter-widgets/controls",
            "_model_module_version": "1.5.0",
            "_model_name": "HTMLModel",
            "_view_count": null,
            "_view_module": "@jupyter-widgets/controls",
            "_view_module_version": "1.5.0",
            "_view_name": "HTMLView",
            "description": "",
            "description_tooltip": null,
            "layout": "IPY_MODEL_f2ff6814cac04bb9b4c859919a2b455d",
            "placeholder": "​",
            "style": "IPY_MODEL_ac9e4d567ef6444fbffaae57c1f58abc",
            "value": " 4/4 [00:12&lt;00:00,  2.67s/it]"
          }
        },
        "4e2d439887ee4fc89467f9eba957e799": {
          "model_module": "@jupyter-widgets/base",
          "model_name": "LayoutModel",
          "model_module_version": "1.2.0",
          "state": {
            "_model_module": "@jupyter-widgets/base",
            "_model_module_version": "1.2.0",
            "_model_name": "LayoutModel",
            "_view_count": null,
            "_view_module": "@jupyter-widgets/base",
            "_view_module_version": "1.2.0",
            "_view_name": "LayoutView",
            "align_content": null,
            "align_items": null,
            "align_self": null,
            "border": null,
            "bottom": null,
            "display": null,
            "flex": null,
            "flex_flow": null,
            "grid_area": null,
            "grid_auto_columns": null,
            "grid_auto_flow": null,
            "grid_auto_rows": null,
            "grid_column": null,
            "grid_gap": null,
            "grid_row": null,
            "grid_template_areas": null,
            "grid_template_columns": null,
            "grid_template_rows": null,
            "height": null,
            "justify_content": null,
            "justify_items": null,
            "left": null,
            "margin": null,
            "max_height": null,
            "max_width": null,
            "min_height": null,
            "min_width": null,
            "object_fit": null,
            "object_position": null,
            "order": null,
            "overflow": null,
            "overflow_x": null,
            "overflow_y": null,
            "padding": null,
            "right": null,
            "top": null,
            "visibility": null,
            "width": null
          }
        },
        "086bed1f19b7439ca625fe525f93cabc": {
          "model_module": "@jupyter-widgets/base",
          "model_name": "LayoutModel",
          "model_module_version": "1.2.0",
          "state": {
            "_model_module": "@jupyter-widgets/base",
            "_model_module_version": "1.2.0",
            "_model_name": "LayoutModel",
            "_view_count": null,
            "_view_module": "@jupyter-widgets/base",
            "_view_module_version": "1.2.0",
            "_view_name": "LayoutView",
            "align_content": null,
            "align_items": null,
            "align_self": null,
            "border": null,
            "bottom": null,
            "display": null,
            "flex": null,
            "flex_flow": null,
            "grid_area": null,
            "grid_auto_columns": null,
            "grid_auto_flow": null,
            "grid_auto_rows": null,
            "grid_column": null,
            "grid_gap": null,
            "grid_row": null,
            "grid_template_areas": null,
            "grid_template_columns": null,
            "grid_template_rows": null,
            "height": null,
            "justify_content": null,
            "justify_items": null,
            "left": null,
            "margin": null,
            "max_height": null,
            "max_width": null,
            "min_height": null,
            "min_width": null,
            "object_fit": null,
            "object_position": null,
            "order": null,
            "overflow": null,
            "overflow_x": null,
            "overflow_y": null,
            "padding": null,
            "right": null,
            "top": null,
            "visibility": null,
            "width": null
          }
        },
        "cdd427bbd5fb4affa126cc98f9fc04bc": {
          "model_module": "@jupyter-widgets/controls",
          "model_name": "DescriptionStyleModel",
          "model_module_version": "1.5.0",
          "state": {
            "_model_module": "@jupyter-widgets/controls",
            "_model_module_version": "1.5.0",
            "_model_name": "DescriptionStyleModel",
            "_view_count": null,
            "_view_module": "@jupyter-widgets/base",
            "_view_module_version": "1.2.0",
            "_view_name": "StyleView",
            "description_width": ""
          }
        },
        "f7156a0c2fc94be5ba8c6707fae914c8": {
          "model_module": "@jupyter-widgets/base",
          "model_name": "LayoutModel",
          "model_module_version": "1.2.0",
          "state": {
            "_model_module": "@jupyter-widgets/base",
            "_model_module_version": "1.2.0",
            "_model_name": "LayoutModel",
            "_view_count": null,
            "_view_module": "@jupyter-widgets/base",
            "_view_module_version": "1.2.0",
            "_view_name": "LayoutView",
            "align_content": null,
            "align_items": null,
            "align_self": null,
            "border": null,
            "bottom": null,
            "display": null,
            "flex": null,
            "flex_flow": null,
            "grid_area": null,
            "grid_auto_columns": null,
            "grid_auto_flow": null,
            "grid_auto_rows": null,
            "grid_column": null,
            "grid_gap": null,
            "grid_row": null,
            "grid_template_areas": null,
            "grid_template_columns": null,
            "grid_template_rows": null,
            "height": null,
            "justify_content": null,
            "justify_items": null,
            "left": null,
            "margin": null,
            "max_height": null,
            "max_width": null,
            "min_height": null,
            "min_width": null,
            "object_fit": null,
            "object_position": null,
            "order": null,
            "overflow": null,
            "overflow_x": null,
            "overflow_y": null,
            "padding": null,
            "right": null,
            "top": null,
            "visibility": null,
            "width": null
          }
        },
        "4418ef25d82f4b6bb7041696a63b9987": {
          "model_module": "@jupyter-widgets/controls",
          "model_name": "ProgressStyleModel",
          "model_module_version": "1.5.0",
          "state": {
            "_model_module": "@jupyter-widgets/controls",
            "_model_module_version": "1.5.0",
            "_model_name": "ProgressStyleModel",
            "_view_count": null,
            "_view_module": "@jupyter-widgets/base",
            "_view_module_version": "1.2.0",
            "_view_name": "StyleView",
            "bar_color": null,
            "description_width": ""
          }
        },
        "f2ff6814cac04bb9b4c859919a2b455d": {
          "model_module": "@jupyter-widgets/base",
          "model_name": "LayoutModel",
          "model_module_version": "1.2.0",
          "state": {
            "_model_module": "@jupyter-widgets/base",
            "_model_module_version": "1.2.0",
            "_model_name": "LayoutModel",
            "_view_count": null,
            "_view_module": "@jupyter-widgets/base",
            "_view_module_version": "1.2.0",
            "_view_name": "LayoutView",
            "align_content": null,
            "align_items": null,
            "align_self": null,
            "border": null,
            "bottom": null,
            "display": null,
            "flex": null,
            "flex_flow": null,
            "grid_area": null,
            "grid_auto_columns": null,
            "grid_auto_flow": null,
            "grid_auto_rows": null,
            "grid_column": null,
            "grid_gap": null,
            "grid_row": null,
            "grid_template_areas": null,
            "grid_template_columns": null,
            "grid_template_rows": null,
            "height": null,
            "justify_content": null,
            "justify_items": null,
            "left": null,
            "margin": null,
            "max_height": null,
            "max_width": null,
            "min_height": null,
            "min_width": null,
            "object_fit": null,
            "object_position": null,
            "order": null,
            "overflow": null,
            "overflow_x": null,
            "overflow_y": null,
            "padding": null,
            "right": null,
            "top": null,
            "visibility": null,
            "width": null
          }
        },
        "ac9e4d567ef6444fbffaae57c1f58abc": {
          "model_module": "@jupyter-widgets/controls",
          "model_name": "DescriptionStyleModel",
          "model_module_version": "1.5.0",
          "state": {
            "_model_module": "@jupyter-widgets/controls",
            "_model_module_version": "1.5.0",
            "_model_name": "DescriptionStyleModel",
            "_view_count": null,
            "_view_module": "@jupyter-widgets/base",
            "_view_module_version": "1.2.0",
            "_view_name": "StyleView",
            "description_width": ""
          }
        }
      }
    }
  },
  "cells": [
    {
      "cell_type": "markdown",
      "metadata": {
        "id": "view-in-github",
        "colab_type": "text"
      },
      "source": [
        "<a href=\"https://colab.research.google.com/github/crodier1/machine_learning_deep_learning/blob/main/RAG_Demo.ipynb\" target=\"_parent\"><img src=\"https://colab.research.google.com/assets/colab-badge.svg\" alt=\"Open In Colab\"/></a>"
      ]
    },
    {
      "cell_type": "markdown",
      "source": [
        "Instructions\n",
        "*   You may use the Deepseek or OpenAI URL\n",
        "*   Provide your own API key\n",
        "*   Ask a question about any article in the sample\n",
        "*   The agent remebers your questions. You may ask follow up questions.\n",
        "\n"
      ],
      "metadata": {
        "id": "iK8MwLPmAPjx"
      }
    },
    {
      "cell_type": "code",
      "execution_count": null,
      "metadata": {
        "colab": {
          "base_uri": "https://localhost:8080/",
          "height": 173,
          "referenced_widgets": [
            "8205281964b54edfa7ac6aef64a9a554",
            "65b822f3be9f488b95b180e6970b2c06",
            "395dee1da1c34c7aad94fb0f0c699a03",
            "422420f7e7e34a81accbab5aab1985c2",
            "4e2d439887ee4fc89467f9eba957e799",
            "086bed1f19b7439ca625fe525f93cabc",
            "cdd427bbd5fb4affa126cc98f9fc04bc",
            "f7156a0c2fc94be5ba8c6707fae914c8",
            "4418ef25d82f4b6bb7041696a63b9987",
            "f2ff6814cac04bb9b4c859919a2b455d",
            "ac9e4d567ef6444fbffaae57c1f58abc"
          ]
        },
        "id": "TYdzcul3sjR1",
        "outputId": "7bed4854-8350-4e5c-e8a9-1ba8a3939247"
      },
      "outputs": [
        {
          "output_type": "stream",
          "name": "stderr",
          "text": [
            "/usr/local/lib/python3.11/dist-packages/huggingface_hub/utils/_auth.py:94: UserWarning: \n",
            "The secret `HF_TOKEN` does not exist in your Colab secrets.\n",
            "To authenticate with the Hugging Face Hub, create a token in your settings tab (https://huggingface.co/settings/tokens), set it as secret in your Google Colab and restart your session.\n",
            "You will be able to reuse this secret in all of your notebooks.\n",
            "Please note that authentication is recommended but still optional to access public models or datasets.\n",
            "  warnings.warn(\n"
          ]
        },
        {
          "output_type": "display_data",
          "data": {
            "text/plain": [
              "Batches:   0%|          | 0/4 [00:00<?, ?it/s]"
            ],
            "application/vnd.jupyter.widget-view+json": {
              "version_major": 2,
              "version_minor": 0,
              "model_id": "8205281964b54edfa7ac6aef64a9a554"
            }
          },
          "metadata": {}
        }
      ],
      "source": [
        "import pandas as pd\n",
        "import numpy as np\n",
        "from sentence_transformers import SentenceTransformer\n",
        "from sklearn.metrics.pairwise import cosine_similarity\n",
        "import requests\n",
        "import os\n",
        "from openai import OpenAI\n",
        "\n",
        "# Precompute embeddings (run once and save)\n",
        "def precompute_embeddings(df, text_column='text'):\n",
        "    model = SentenceTransformer('all-MiniLM-L6-v2')\n",
        "    texts = df[text_column].tolist()\n",
        "    embeddings = model.encode(texts, show_progress_bar=True)\n",
        "    df['embeddings'] = list(embeddings)\n",
        "    return df\n",
        "\n",
        "# Load your DataFrame (example)\n",
        "df_small = pd.read_csv('https://lazyprogrammer.me/course_files/nlp/bbc_text_cls.csv').sample(100)\n",
        "df_small = precompute_embeddings(df_small, 'text')\n",
        "df_small.to_pickle('df_small_embeddings.pkl')  # Save for later\n",
        "\n",
        "class QA_Agent:\n",
        "    def __init__(self, df_path, api_key, url):\n",
        "        self.df = pd.read_pickle(df_path)\n",
        "        self.embedding_model = SentenceTransformer('all-MiniLM-L6-v2')\n",
        "        self.client = OpenAI(api_key=api_key, base_url=url)\n",
        "        self.messages = [\n",
        "            {'role': 'system', 'content': \"Answer ONLY using the provided context. If unsure, say 'I don't know the answer.'\"}\n",
        "        ]\n",
        "\n",
        "\n",
        "\n",
        "    def _get_most_relevant_context(self, question, threshold=0.3):\n",
        "        question_embed = self.embedding_model.encode([question])\n",
        "        df_embeddings = np.stack(self.df['embeddings'].values)\n",
        "        similarities = cosine_similarity(question_embed, df_embeddings)[0]\n",
        "        max_idx = np.argmax(similarities)\n",
        "        return self.df.iloc[max_idx]['text'] if similarities[max_idx] > threshold else None\n",
        "\n",
        "    def ask(self, question):\n",
        "        context = self._get_most_relevant_context(question)\n",
        "        if not context:\n",
        "            return \"I don't know the answer.\"\n",
        "\n",
        "        self.messages.append({'role': 'user', 'content': f\"Context:\\n{context}\\n\\nQuestion: {question}\"})\n",
        "\n",
        "        response = self.__complete()\n",
        "        answer = response.choices[0].message.content\n",
        "        self.messages.append({'role': 'assistant', 'content': answer})\n",
        "\n",
        "        return answer\n",
        "\n",
        "    def __complete(self):\n",
        "      return self.client.chat.completions.create(\n",
        "          model='deepseek-chat',\n",
        "          messages=self.messages,\n",
        "          temperature=0,\n",
        "          max_tokens=200\n",
        "      )"
      ]
    },
    {
      "cell_type": "code",
      "source": [
        "print(df_small.sample(1)['text'].values[0])"
      ],
      "metadata": {
        "colab": {
          "base_uri": "https://localhost:8080/"
        },
        "id": "XyELIhYrx6cc",
        "outputId": "4775727b-b3d7-4f63-c9b8-dd3031db3e49"
      },
      "execution_count": null,
      "outputs": [
        {
          "output_type": "stream",
          "name": "stdout",
          "text": [
            "Merritt close to indoor 400m mark\n",
            "\n",
            "Teenager LaShawn Merritt ran the third fastest indoor 400m of all time at the Fayetteville Invitational meeting.\n",
            "\n",
            "The world junior champion clocked 44.93 seconds to finish well clear of fellow American Bershawn Jackson in Arkansas. Only Michael Johnson has gone quicker, setting the world record of 44.63secs in 1995 and running 44.66secs in 1996. Kenyan Bernard Lagat missed out on the world record by 1.45secs as he ran the third quickest indoor mile ever to beat Canada's Nate Brannen by almost 10secs. The Olympic silver medallist's time of three minutes 49.89secs was inferior only to the 1997 world record of Moroccan Hicham El Guerrouj and former world record holder Eamonn Coghlan of Ireland's 3:49.78. Lagat was on course to break El Guerrouj's record through 1200m but could not maintain the pace over the final 400m. Ireland's\n",
            "\n",
            "continued his excellent form by winning a tight 3,000m in 7:40.53. Cragg, who recently defeated Olympic 10,000m champion Kenenisa Bekele in Boston, held off Bekele's Ethiopian colleague Markos Geneti by only 0.19secs to secure his victory. Mark Carroll, who will join Cragg in the European Indoor Championships next month, finished a solid third in 7:46.78. Olympic 200m gold medallist\n",
            "\n",
            "of Jamaica ran the fastest women's 60m in the world this year as she equalled her personal best of 7.09secs. World indoor 60m hurdles champion\n",
            "\n",
            "also won, improving his season-leading time to 7.51secs.\n"
          ]
        }
      ]
    },
    {
      "cell_type": "code",
      "source": [
        "df_path = 'df_small_embeddings.pkl'\n",
        "api_key = '[put your deepseek or OpenAPi key here]'\n",
        "# You may also use the openAI URL\n",
        "url = \"https://api.deepseek.com\"\n",
        "agent = QA_Agent(df_path, api_key, url)"
      ],
      "metadata": {
        "id": "XSAb1JUJueuk"
      },
      "execution_count": null,
      "outputs": []
    },
    {
      "cell_type": "code",
      "source": [
        "while True:\n",
        "    question = input(\"Ask a question (or 'exit' to quit): \")\n",
        "    if question.lower() == 'exit':\n",
        "        break\n",
        "    answer = agent.ask(question)\n",
        "    print(\"Answer:\", answer)"
      ],
      "metadata": {
        "colab": {
          "base_uri": "https://localhost:8080/"
        },
        "id": "kD9cW_J3yeZK",
        "outputId": "e5185df1-a59b-43f6-bc1d-c6db37ae9b8a"
      },
      "execution_count": null,
      "outputs": [
        {
          "name": "stdout",
          "output_type": "stream",
          "text": [
            "Ask a question (or 'exit' to quit): Where did LaShawn Merritt run?\n",
            "Answer: LaShawn Merritt ran at the Fayetteville Invitational meeting in Arkansas.\n",
            "Ask a question (or 'exit' to quit): How fast did he run?\n",
            "Answer: LaShawn Merritt ran the indoor 400m in **44.93 seconds**.\n",
            "Ask a question (or 'exit' to quit): Why is the sky blue?\n",
            "Answer: I don't know the answer.\n",
            "Ask a question (or 'exit' to quit): quit\n",
            "Answer: I don't know the answer.\n",
            "Ask a question (or 'exit' to quit): exit\n"
          ]
        }
      ]
    }
  ]
}