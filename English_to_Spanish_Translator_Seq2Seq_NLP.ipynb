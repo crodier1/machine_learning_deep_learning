{
  "nbformat": 4,
  "nbformat_minor": 0,
  "metadata": {
    "colab": {
      "provenance": [],
      "authorship_tag": "ABX9TyNgMkNp/OlAzzfEwhHmHuhU",
      "include_colab_link": true
    },
    "kernelspec": {
      "name": "python3",
      "display_name": "Python 3"
    },
    "language_info": {
      "name": "python"
    }
  },
  "cells": [
    {
      "cell_type": "markdown",
      "metadata": {
        "id": "view-in-github",
        "colab_type": "text"
      },
      "source": [
        "<a href=\"https://colab.research.google.com/github/crodier1/machine_learning_deep_learning/blob/main/English_to_Spanish_Translator_Seq2Seq_NLP.ipynb\" target=\"_parent\"><img src=\"https://colab.research.google.com/assets/colab-badge.svg\" alt=\"Open In Colab\"/></a>"
      ]
    },
    {
      "cell_type": "markdown",
      "source": [
        "This translates short phrases and word in Englishto Spanish. Follow the following steps start translating:\n",
        "1.   Run all fields\n",
        "2.   Scroll to bottom\n",
        "3.   Insert word or a short phrase to translate\n",
        "\n",
        "This is a sequence 2 sequence NLP model built in Tensorflow. To see the source code of the model look at: [English to Spanish Translator Source Code - Seq2Seq - NLP](https://colab.research.google.com/drive/10-b9Yx7oii0jo2biN14MEnbe7e1-FajP?usp=sharing)"
      ],
      "metadata": {
        "id": "uMCnN8L2aojW"
      }
    },
    {
      "cell_type": "code",
      "source": [
        "import tensorflow as tf\n",
        "from tensorflow.keras.preprocessing.text import tokenizer_from_json\n",
        "import json\n",
        "from keras.preprocessing.sequence import pad_sequences\n",
        "import numpy as np\n",
        "import pickle\n",
        "!pip install gdown\n",
        "import gdown\n",
        "import os"
      ],
      "metadata": {
        "colab": {
          "base_uri": "https://localhost:8080/"
        },
        "id": "gQIO5NfPKUWO",
        "outputId": "d5e474a3-417d-4f17-975d-0023a7226dfd"
      },
      "execution_count": 12,
      "outputs": [
        {
          "output_type": "stream",
          "name": "stdout",
          "text": [
            "Requirement already satisfied: gdown in /usr/local/lib/python3.11/dist-packages (5.2.0)\n",
            "Requirement already satisfied: beautifulsoup4 in /usr/local/lib/python3.11/dist-packages (from gdown) (4.13.3)\n",
            "Requirement already satisfied: filelock in /usr/local/lib/python3.11/dist-packages (from gdown) (3.17.0)\n",
            "Requirement already satisfied: requests[socks] in /usr/local/lib/python3.11/dist-packages (from gdown) (2.32.3)\n",
            "Requirement already satisfied: tqdm in /usr/local/lib/python3.11/dist-packages (from gdown) (4.67.1)\n",
            "Requirement already satisfied: soupsieve>1.2 in /usr/local/lib/python3.11/dist-packages (from beautifulsoup4->gdown) (2.6)\n",
            "Requirement already satisfied: typing-extensions>=4.0.0 in /usr/local/lib/python3.11/dist-packages (from beautifulsoup4->gdown) (4.12.2)\n",
            "Requirement already satisfied: charset-normalizer<4,>=2 in /usr/local/lib/python3.11/dist-packages (from requests[socks]->gdown) (3.4.1)\n",
            "Requirement already satisfied: idna<4,>=2.5 in /usr/local/lib/python3.11/dist-packages (from requests[socks]->gdown) (3.10)\n",
            "Requirement already satisfied: urllib3<3,>=1.21.1 in /usr/local/lib/python3.11/dist-packages (from requests[socks]->gdown) (2.3.0)\n",
            "Requirement already satisfied: certifi>=2017.4.17 in /usr/local/lib/python3.11/dist-packages (from requests[socks]->gdown) (2025.1.31)\n",
            "Requirement already satisfied: PySocks!=1.5.7,>=1.5.6 in /usr/local/lib/python3.11/dist-packages (from requests[socks]->gdown) (1.7.1)\n"
          ]
        }
      ]
    },
    {
      "cell_type": "code",
      "source": [
        "if not os.path.exists(\"/content/spanish_docs\"):\n",
        "  folder_id = '1vG7uOU0W6dqpjLceeFOTqt_31RJ9eHsG'\n",
        "  download_url = f'https://drive.google.com/drive/folders/{folder_id}'\n",
        "\n",
        "  !gdown --folder {download_url} -O /content/"
      ],
      "metadata": {
        "id": "y3lMyQoWY_DZ"
      },
      "execution_count": 13,
      "outputs": []
    },
    {
      "cell_type": "code",
      "source": [
        "max_len_input = 6\n",
        "max_len_target = 10"
      ],
      "metadata": {
        "id": "ra7eWMWuV2Fg"
      },
      "execution_count": 14,
      "outputs": []
    },
    {
      "cell_type": "code",
      "source": [
        "with open('/content/spanish_docs/tokenizer.json') as file:\n",
        "    tokenizer_json = json.load(file)\n",
        "\n",
        "# Create a new tokenizer from the JSON\n",
        "tokenizer_inputs = tokenizer_from_json(tokenizer_json)"
      ],
      "metadata": {
        "id": "jQqRNi95VJhf"
      },
      "execution_count": 15,
      "outputs": []
    },
    {
      "cell_type": "code",
      "source": [
        "with open('/content/spanish_docs/word2idx_outputs.pkl', 'rb') as f:\n",
        "    word2idx_outputs = pickle.load(f)"
      ],
      "metadata": {
        "id": "1z3_zp3pW5NZ"
      },
      "execution_count": 16,
      "outputs": []
    },
    {
      "cell_type": "code",
      "source": [
        "with open('/content/spanish_docs/indx2word_trans.pkl', 'rb') as f:\n",
        "    indx2word_trans = pickle.load(f)"
      ],
      "metadata": {
        "id": "W6r_73qtX1aM"
      },
      "execution_count": 17,
      "outputs": []
    },
    {
      "cell_type": "code",
      "source": [
        "encoder_model = tf.keras.models.load_model('/content/spanish_docs/encoder_model.h5')\n",
        "decoder_model = tf.keras.models.load_model('/content/spanish_docs/decoder_model.h5')"
      ],
      "metadata": {
        "colab": {
          "base_uri": "https://localhost:8080/"
        },
        "id": "jjb7zzyTJzvC",
        "outputId": "8e2466ff-e394-4c79-a1ab-9495ec783bc6"
      },
      "execution_count": 18,
      "outputs": [
        {
          "output_type": "stream",
          "name": "stderr",
          "text": [
            "WARNING:absl:No training configuration found in the save file, so the model was *not* compiled. Compile it manually.\n",
            "WARNING:absl:No training configuration found in the save file, so the model was *not* compiled. Compile it manually.\n"
          ]
        }
      ]
    },
    {
      "cell_type": "code",
      "execution_count": 19,
      "metadata": {
        "id": "WYhvMxxNJRVm"
      },
      "outputs": [],
      "source": [
        "def decode_sequence(input_seq):\n",
        "  states_value = encoder_model.predict(input_seq, verbose = 0)\n",
        "  target_seq = np.zeros((1, 1))\n",
        "  target_seq[0, 0] = word2idx_outputs['<sos>']\n",
        "  eos = word2idx_outputs['<eos>']\n",
        "\n",
        "  output_sentence = []\n",
        "  for _ in range(max_len_target):\n",
        "    output_tokens, h, c = decoder_model.predict([target_seq] + states_value, verbose=0)\n",
        "\n",
        "    idx = np.argmax(output_tokens[0, 0, :])\n",
        "\n",
        "    if eos == idx:\n",
        "      break\n",
        "\n",
        "    word = ''\n",
        "\n",
        "    if idx > 0:\n",
        "      word = indx2word_trans[idx]\n",
        "      output_sentence.append(word)\n",
        "\n",
        "    target_seq[0, 0] = idx\n",
        "\n",
        "    states_value = [h, c]\n",
        "\n",
        "  return ' '.join(output_sentence)"
      ]
    },
    {
      "cell_type": "code",
      "source": [
        "def translate():\n",
        "  phrase = input(\"What word would you like to translate from English to Spanish? \")\n",
        "  phrase_sequences = tokenizer_inputs.texts_to_sequences([phrase])\n",
        "  pharse_encoded = pad_sequences(phrase_sequences, maxlen=max_len_input)\n",
        "  return phrase, pharse_encoded"
      ],
      "metadata": {
        "id": "uRDYwzjuKcZh"
      },
      "execution_count": 20,
      "outputs": []
    },
    {
      "cell_type": "code",
      "source": [
        "while True:\n",
        "  phrase, pharse_encoded = translate()\n",
        "  translation = decode_sequence(pharse_encoded)\n",
        "  print('-')\n",
        "  print('Input:', phrase)\n",
        "  print('Translation:', translation)\n",
        "\n",
        "  ans = input('Continue? [y/n] ')\n",
        "  if ans and ans.lower().startswith('n'):\n",
        "    break"
      ],
      "metadata": {
        "colab": {
          "base_uri": "https://localhost:8080/"
        },
        "id": "nampwCroKgeB",
        "outputId": "d4368482-91d7-4ee3-ad81-d0ddbdedec33"
      },
      "execution_count": 22,
      "outputs": [
        {
          "name": "stdout",
          "output_type": "stream",
          "text": [
            "What word would you like to translate from English to Spanish? Hello\n",
            "-\n",
            "Input: Hello\n",
            "Translation: hola.\n",
            "Continue? [y/n] goodbye\n",
            "What word would you like to translate from English to Spanish? goodbye\n",
            "-\n",
            "Input: goodbye\n",
            "Translation: hasta la vista.\n",
            "Continue? [y/n] n\n"
          ]
        }
      ]
    }
  ]
}