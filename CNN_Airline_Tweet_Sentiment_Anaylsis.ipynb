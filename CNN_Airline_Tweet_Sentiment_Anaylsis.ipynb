{
  "cells": [
    {
      "cell_type": "markdown",
      "metadata": {
        "id": "view-in-github",
        "colab_type": "text"
      },
      "source": [
        "<a href=\"https://colab.research.google.com/github/crodier1/machine_learning_deep_learning/blob/main/CNN_Airline_Tweet_Sentiment_Anaylsis.ipynb\" target=\"_parent\"><img src=\"https://colab.research.google.com/assets/colab-badge.svg\" alt=\"Open In Colab\"/></a>"
      ]
    },
    {
      "cell_type": "code",
      "execution_count": 1,
      "metadata": {
        "id": "QwcPgG5KRg0R"
      },
      "outputs": [],
      "source": [
        "import os\n",
        "import sys\n",
        "import pandas as pd\n",
        "import numpy as np\n",
        "import matplotlib.pyplot as plt\n",
        "from tensorflow.keras.preprocessing.text import Tokenizer\n",
        "from keras.preprocessing.sequence import pad_sequences\n",
        "from keras.layers import Dense, Input, GlobalMaxPooling1D\n",
        "from keras.layers import Conv1D, MaxPooling1D, Embedding, Dropout\n",
        "from keras.models import Model\n",
        "from sklearn.metrics import roc_auc_score\n",
        "from tensorflow.keras.regularizers import l2\n",
        "!pip install opendatasets\n",
        "import opendatasets as od\n",
        "from keras.utils import to_categorical"
      ]
    },
    {
      "cell_type": "code",
      "execution_count": 2,
      "metadata": {
        "colab": {
          "base_uri": "https://localhost:8080/"
        },
        "id": "UhuZKgMdRq9I",
        "outputId": "36a7295c-ac57-4f9c-ed48-ed9e55dbc153"
      },
      "outputs": [
        {
          "output_type": "stream",
          "name": "stdout",
          "text": [
            "File ‘AirlineSentimentTweets.csv’ already there; not retrieving.\n",
            "\n"
          ]
        }
      ],
      "source": [
        "!wget -nc https://lazyprogrammer.me/course_files/exercises/AirlineSentimentTweets.csv"
      ]
    },
    {
      "cell_type": "code",
      "execution_count": 3,
      "metadata": {
        "id": "-6zeGe7FRsab"
      },
      "outputs": [],
      "source": [
        "df = pd.read_csv('AirlineSentimentTweets.csv')"
      ]
    },
    {
      "cell_type": "code",
      "execution_count": 4,
      "metadata": {
        "id": "GkaqKBTtSTcI"
      },
      "outputs": [],
      "source": [
        "df['negativereason'] = df['negativereason'].fillna('none')\n",
        "\n",
        "df['negativereason'] = df['negativereason'].map({'Bad Flight': 1,\n",
        " \"Can't Tell\": 1,\n",
        " 'Cancelled Flight': 2,\n",
        " 'Customer Service Issue': 3,\n",
        " 'Damaged Luggage': 4,\n",
        " 'Flight Attendant Complaints': 5,\n",
        " 'Flight Booking Problems': 6,\n",
        " 'Late Flight': 7,\n",
        " 'Lost Luggage': 8,\n",
        " 'longlines': 9,\n",
        " 'none': 0})\n"
      ]
    },
    {
      "cell_type": "code",
      "execution_count": 5,
      "metadata": {
        "colab": {
          "base_uri": "https://localhost:8080/"
        },
        "id": "o5f1FBtVSUzV",
        "outputId": "7aa0fb76-16f0-4695-96d9-c79cfefc5a53"
      },
      "outputs": [
        {
          "output_type": "execute_result",
          "data": {
            "text/plain": [
              "3"
            ]
          },
          "metadata": {},
          "execution_count": 5
        }
      ],
      "source": [
        "K = len(set(df['airline_sentiment']))\n",
        "K"
      ]
    },
    {
      "cell_type": "code",
      "execution_count": 6,
      "metadata": {
        "id": "zp4asMzOSZi6"
      },
      "outputs": [],
      "source": [
        "df['airline_sentiment'] = df['airline_sentiment'].map({'negative':0, 'neutral':1, 'positive':2})"
      ]
    },
    {
      "cell_type": "code",
      "execution_count": 7,
      "metadata": {
        "id": "TeQyMVQ3ScWh"
      },
      "outputs": [],
      "source": [
        "df2 = df[['text', 'airline_sentiment']]\n"
      ]
    },
    {
      "cell_type": "code",
      "execution_count": 8,
      "metadata": {
        "id": "qanaS35GTNgR"
      },
      "outputs": [],
      "source": [
        "if not os.path.exists(\"/content/glove6b\"):\n",
        "  od.download(\"https://nlp.stanford.edu/data/glove.6B.zip\")\n",
        "  !unzip glove.6B.zip -d /content/glove6b"
      ]
    },
    {
      "cell_type": "code",
      "execution_count": 9,
      "metadata": {
        "id": "fPO8lefUTOsh"
      },
      "outputs": [],
      "source": [
        "MAX_SEQUENCE_LENGTH = 100\n",
        "MAX_VOCAB_SIZE = 20_000\n",
        "EMBEDING_DIM = 100\n",
        "VALIDATION_SPLIT = 0.2\n",
        "EPOCHS = 10\n",
        "BATCH_SIZE = 128"
      ]
    },
    {
      "cell_type": "code",
      "execution_count": 10,
      "metadata": {
        "colab": {
          "base_uri": "https://localhost:8080/"
        },
        "id": "mAKzcqWuUhIW",
        "outputId": "ecbc8b3a-abe7-4152-952f-1a5c538d6bba"
      },
      "outputs": [
        {
          "output_type": "stream",
          "name": "stdout",
          "text": [
            "Loading word vectors...\n",
            "Found 400000 word vectors.\n"
          ]
        }
      ],
      "source": [
        "print('Loading word vectors...')\n",
        "word2vec = {}\n",
        "\n",
        "with open(os.path.join('/content/glove6b/glove.6B.%sd.txt' % EMBEDING_DIM)) as f:\n",
        "    for line in f:\n",
        "        values = line.split()\n",
        "        word = values[0]\n",
        "        vec = np.asarray(values[1:], dtype='float32')\n",
        "        word2vec[word] = vec\n",
        "print('Found %s word vectors.' % len(word2vec))"
      ]
    },
    {
      "cell_type": "code",
      "source": [
        "sentences = df['text'].fillna('none').values\n",
        "targets = df['airline_sentiment'].values\n",
        "targets = to_categorical(targets)"
      ],
      "metadata": {
        "id": "ek81n3LiFVs9"
      },
      "execution_count": 11,
      "outputs": []
    },
    {
      "cell_type": "code",
      "source": [
        "print('max sequence length:', max(len(s) for s in sentences))\n",
        "print('min sequence length:', min(len(s) for s in sentences))\n",
        "s = sorted(len(s) for s in sentences)\n",
        "print('median sequence length:', s[len(s) // 2])"
      ],
      "metadata": {
        "colab": {
          "base_uri": "https://localhost:8080/"
        },
        "id": "_5Enm8C0F9j7",
        "outputId": "216e4921-984b-4165-86ce-0a7a6180cb52"
      },
      "execution_count": 12,
      "outputs": [
        {
          "output_type": "stream",
          "name": "stdout",
          "text": [
            "max sequence length: 186\n",
            "min sequence length: 12\n",
            "median sequence length: 114\n"
          ]
        }
      ]
    },
    {
      "cell_type": "code",
      "source": [
        "tolkenizer = Tokenizer(num_words=MAX_VOCAB_SIZE)\n",
        "tolkenizer.fit_on_texts(sentences)\n",
        "sequences = tolkenizer.texts_to_sequences(sentences)"
      ],
      "metadata": {
        "id": "S6--yHfkGTYE"
      },
      "execution_count": 13,
      "outputs": []
    },
    {
      "cell_type": "code",
      "source": [
        "word2idx = tolkenizer.word_index\n",
        "print('Found %s unique tokens.' % len(word2idx))"
      ],
      "metadata": {
        "colab": {
          "base_uri": "https://localhost:8080/"
        },
        "id": "EK_-NRHiGYVq",
        "outputId": "2e1893f8-822e-48ac-f586-7e986c747036"
      },
      "execution_count": 14,
      "outputs": [
        {
          "output_type": "stream",
          "name": "stdout",
          "text": [
            "Found 15768 unique tokens.\n"
          ]
        }
      ]
    },
    {
      "cell_type": "code",
      "source": [
        "data = pad_sequences(sequences, maxlen=MAX_SEQUENCE_LENGTH)\n",
        "print('Shape of data tensor:', data.shape)"
      ],
      "metadata": {
        "colab": {
          "base_uri": "https://localhost:8080/"
        },
        "id": "dywQlJvmGcRd",
        "outputId": "8ce9e0d8-d896-4f3a-f124-b0d3688c5bc9"
      },
      "execution_count": 15,
      "outputs": [
        {
          "output_type": "stream",
          "name": "stdout",
          "text": [
            "Shape of data tensor: (14640, 100)\n"
          ]
        }
      ]
    },
    {
      "cell_type": "code",
      "source": [
        "print('Filling pre-trained embeddings...')\n",
        "num_words = min(MAX_VOCAB_SIZE, len(word2idx) + 1)\n",
        "embedding_matrix = np.zeros((num_words, EMBEDING_DIM))\n",
        "for word, i in word2idx.items():\n",
        "    if i < MAX_VOCAB_SIZE:\n",
        "        embedding_vector = word2vec.get(word)\n",
        "        if embedding_vector is not None:\n",
        "            embedding_matrix[i] = embedding_vector"
      ],
      "metadata": {
        "colab": {
          "base_uri": "https://localhost:8080/"
        },
        "id": "AGhngnvPGmjy",
        "outputId": "aea65b83-9032-4084-88d5-9edab893c907"
      },
      "execution_count": 16,
      "outputs": [
        {
          "output_type": "stream",
          "name": "stdout",
          "text": [
            "Filling pre-trained embeddings...\n"
          ]
        }
      ]
    },
    {
      "cell_type": "code",
      "source": [
        "embedding_layer = Embedding(\n",
        "    num_words,\n",
        "    EMBEDING_DIM,\n",
        "    weights=[embedding_matrix],\n",
        "    input_length=MAX_SEQUENCE_LENGTH,\n",
        "    trainable=False\n",
        ")"
      ],
      "metadata": {
        "colab": {
          "base_uri": "https://localhost:8080/"
        },
        "id": "CDDvPtTIGtqH",
        "outputId": "9550def8-e873-4c1f-be77-ef3798e38bce"
      },
      "execution_count": 17,
      "outputs": [
        {
          "output_type": "stream",
          "name": "stderr",
          "text": [
            "/usr/local/lib/python3.11/dist-packages/keras/src/layers/core/embedding.py:90: UserWarning: Argument `input_length` is deprecated. Just remove it.\n",
            "  warnings.warn(\n"
          ]
        }
      ]
    },
    {
      "cell_type": "code",
      "source": [
        "print('building model...')\n",
        "input_ = Input(shape=(MAX_SEQUENCE_LENGTH,))\n",
        "x = embedding_layer(input_)\n",
        "x = Conv1D(64, 5, activation='relu', kernel_regularizer=l2(0.01))(x)\n",
        "x = MaxPooling1D(3)(x)\n",
        "x = Conv1D(64, 5, activation='relu', kernel_regularizer=l2(0.01))(x)\n",
        "x = GlobalMaxPooling1D()(x)\n",
        "x = Dense(64, activation='relu', kernel_regularizer=l2(0.01))(x)\n",
        "x = Dropout(0.6)(x)\n",
        "output = Dense(K, activation='softmax')(x)\n"
      ],
      "metadata": {
        "colab": {
          "base_uri": "https://localhost:8080/"
        },
        "id": "JpynR9zZI2fp",
        "outputId": "77e22201-2eaf-48f7-a96a-683cf5567474"
      },
      "execution_count": 18,
      "outputs": [
        {
          "output_type": "stream",
          "name": "stdout",
          "text": [
            "building model...\n"
          ]
        }
      ]
    },
    {
      "cell_type": "code",
      "source": [
        "model = Model(input_, output)\n",
        "model.compile(\n",
        "    loss='categorical_crossentropy',\n",
        "    optimizer='adam',\n",
        "    metrics=['accuracy']\n",
        ")"
      ],
      "metadata": {
        "id": "tkkR_58LJMPi"
      },
      "execution_count": 19,
      "outputs": []
    },
    {
      "cell_type": "code",
      "source": [
        "print('training model...')\n",
        "r = model.fit(\n",
        "    data,\n",
        "    targets,\n",
        "    batch_size=BATCH_SIZE,\n",
        "    epochs=EPOCHS,\n",
        "    validation_split=VALIDATION_SPLIT\n",
        ")"
      ],
      "metadata": {
        "colab": {
          "base_uri": "https://localhost:8080/"
        },
        "id": "QxY3yJQEJNC5",
        "outputId": "9f36a5a5-4d58-4e6a-fd9e-0e02a2f24f62"
      },
      "execution_count": 20,
      "outputs": [
        {
          "output_type": "stream",
          "name": "stdout",
          "text": [
            "training model...\n",
            "Epoch 1/10\n",
            "\u001b[1m92/92\u001b[0m \u001b[32m━━━━━━━━━━━━━━━━━━━━\u001b[0m\u001b[37m\u001b[0m \u001b[1m15s\u001b[0m 130ms/step - accuracy: 0.5699 - loss: 2.5882 - val_accuracy: 0.7493 - val_loss: 1.3667\n",
            "Epoch 2/10\n",
            "\u001b[1m92/92\u001b[0m \u001b[32m━━━━━━━━━━━━━━━━━━━━\u001b[0m\u001b[37m\u001b[0m \u001b[1m20s\u001b[0m 123ms/step - accuracy: 0.6836 - loss: 1.3068 - val_accuracy: 0.7900 - val_loss: 0.8615\n",
            "Epoch 3/10\n",
            "\u001b[1m92/92\u001b[0m \u001b[32m━━━━━━━━━━━━━━━━━━━━\u001b[0m\u001b[37m\u001b[0m \u001b[1m17s\u001b[0m 82ms/step - accuracy: 0.7372 - loss: 0.9477 - val_accuracy: 0.7947 - val_loss: 0.7619\n",
            "Epoch 4/10\n",
            "\u001b[1m92/92\u001b[0m \u001b[32m━━━━━━━━━━━━━━━━━━━━\u001b[0m\u001b[37m\u001b[0m \u001b[1m14s\u001b[0m 123ms/step - accuracy: 0.7562 - loss: 0.8151 - val_accuracy: 0.8050 - val_loss: 0.6732\n",
            "Epoch 5/10\n",
            "\u001b[1m92/92\u001b[0m \u001b[32m━━━━━━━━━━━━━━━━━━━━\u001b[0m\u001b[37m\u001b[0m \u001b[1m7s\u001b[0m 72ms/step - accuracy: 0.7765 - loss: 0.7459 - val_accuracy: 0.8163 - val_loss: 0.6475\n",
            "Epoch 6/10\n",
            "\u001b[1m92/92\u001b[0m \u001b[32m━━━━━━━━━━━━━━━━━━━━\u001b[0m\u001b[37m\u001b[0m \u001b[1m16s\u001b[0m 131ms/step - accuracy: 0.7777 - loss: 0.7338 - val_accuracy: 0.8132 - val_loss: 0.6427\n",
            "Epoch 7/10\n",
            "\u001b[1m92/92\u001b[0m \u001b[32m━━━━━━━━━━━━━━━━━━━━\u001b[0m\u001b[37m\u001b[0m \u001b[1m8s\u001b[0m 86ms/step - accuracy: 0.7830 - loss: 0.7082 - val_accuracy: 0.8142 - val_loss: 0.6332\n",
            "Epoch 8/10\n",
            "\u001b[1m92/92\u001b[0m \u001b[32m━━━━━━━━━━━━━━━━━━━━\u001b[0m\u001b[37m\u001b[0m \u001b[1m12s\u001b[0m 106ms/step - accuracy: 0.7894 - loss: 0.6872 - val_accuracy: 0.8163 - val_loss: 0.6213\n",
            "Epoch 9/10\n",
            "\u001b[1m92/92\u001b[0m \u001b[32m━━━━━━━━━━━━━━━━━━━━\u001b[0m\u001b[37m\u001b[0m \u001b[1m11s\u001b[0m 117ms/step - accuracy: 0.7947 - loss: 0.6770 - val_accuracy: 0.8214 - val_loss: 0.6031\n",
            "Epoch 10/10\n",
            "\u001b[1m92/92\u001b[0m \u001b[32m━━━━━━━━━━━━━━━━━━━━\u001b[0m\u001b[37m\u001b[0m \u001b[1m22s\u001b[0m 129ms/step - accuracy: 0.8108 - loss: 0.6512 - val_accuracy: 0.8238 - val_loss: 0.6030\n"
          ]
        }
      ]
    },
    {
      "cell_type": "code",
      "source": [
        "plt.plot(r.history['loss'], label='loss')\n",
        "plt.plot(r.history['val_loss'], label='val_loss')\n",
        "plt.legend()\n",
        "plt.show()"
      ],
      "metadata": {
        "colab": {
          "base_uri": "https://localhost:8080/",
          "height": 430
        },
        "id": "ucAuPkysJxPI",
        "outputId": "4f96dbda-6dcf-44b4-fb73-0b7c748497f2"
      },
      "execution_count": 21,
      "outputs": [
        {
          "output_type": "display_data",
          "data": {
            "text/plain": [
              "<Figure size 640x480 with 1 Axes>"
            ],
            "image/png": "[encoded data removed]"
          },
          "metadata": {}
        }
      ]
    },
    {
      "cell_type": "code",
      "source": [
        "plt.plot(r.history['accuracy'], label='acc')\n",
        "plt.plot(r.history['val_accuracy'], label='val_acc')\n",
        "plt.legend()\n",
        "plt.show()"
      ],
      "metadata": {
        "colab": {
          "base_uri": "https://localhost:8080/",
          "height": 430
        },
        "id": "RyKik3peJzrl",
        "outputId": "30f59276-99c6-44ca-c6e7-e4880a27c342"
      },
      "execution_count": 22,
      "outputs": [
        {
          "output_type": "display_data",
          "data": {
            "text/plain": [
              "<Figure size 640x480 with 1 Axes>"
            ],
            "image/png": "[encoded data removed]"
          },
          "metadata": {}
        }
      ]
    }
  ],
  "metadata": {
    "colab": {
      "provenance": [],
      "authorship_tag": "ABX9TyM5jb/SFBQwB8BZu+wB20lH",
      "include_colab_link": true
    },
    "kernelspec": {
      "display_name": "Python 3",
      "name": "python3"
    },
    "language_info": {
      "name": "python"
    }
  },
  "nbformat": 4,
  "nbformat_minor": 0
}