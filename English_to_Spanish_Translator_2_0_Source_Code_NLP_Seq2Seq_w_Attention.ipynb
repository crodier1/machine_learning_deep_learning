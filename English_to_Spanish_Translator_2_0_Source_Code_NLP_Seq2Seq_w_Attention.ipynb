{
  "nbformat": 4,
  "nbformat_minor": 0,
  "metadata": {
    "colab": {
      "provenance": [],
      "authorship_tag": "ABX9TyN2zmFudO8Hjn2yBkaj1E6i",
      "include_colab_link": true
    },
    "kernelspec": {
      "name": "python3",
      "display_name": "Python 3"
    },
    "language_info": {
      "name": "python"
    }
  },
  "cells": [
    {
      "cell_type": "markdown",
      "metadata": {
        "id": "view-in-github",
        "colab_type": "text"
      },
      "source": [
        "<a href=\"https://colab.research.google.com/github/crodier1/machine_learning_deep_learning/blob/main/English_to_Spanish_Translator_2_0_Source_Code_NLP_Seq2Seq_w_Attention.ipynb\" target=\"_parent\"><img src=\"https://colab.research.google.com/assets/colab-badge.svg\" alt=\"Open In Colab\"/></a>"
      ]
    },
    {
      "cell_type": "code",
      "execution_count": 1,
      "metadata": {
        "id": "D_o7DFRZyG5V"
      },
      "outputs": [],
      "source": [
        "from __future__ import print_function, division\n",
        "from builtins import range, input"
      ]
    },
    {
      "cell_type": "code",
      "source": [
        "import os,sys\n",
        "from keras.models import Model\n",
        "from keras.layers import Input, LSTM, GRU, Dense, Embedding, \\\n",
        "Bidirectional, RepeatVector, Concatenate, Activation, Dot, \\\n",
        "Lambda, GRU\n",
        "from tensorflow.keras.preprocessing.text import Tokenizer\n",
        "from keras.preprocessing.sequence import pad_sequences\n",
        "import keras.backend as K\n",
        "import numpy as np\n",
        "import matplotlib.pyplot as plt\n",
        "from tensorflow import stack, transpose, rank, exp, reduce_max, reduce_sum\n",
        "from tensorflow.keras.callbacks import EarlyStopping\n",
        "from tensorflow.keras.optimizers.schedules import ExponentialDecay\n",
        "from keras.optimizers import Adam, RMSprop\n",
        "import json\n",
        "import pickle"
      ],
      "metadata": {
        "id": "J1YNtqImyVd-"
      },
      "execution_count": 2,
      "outputs": []
    },
    {
      "cell_type": "code",
      "source": [
        "def softmax_over_time(x):\n",
        "  # assert(rank(x) > 2)\n",
        "  e = exp(x - reduce_max(x, axis=1, keepdims=True))\n",
        "  s = reduce_sum (e, axis=1, keepdims=True)\n",
        "  return e / s"
      ],
      "metadata": {
        "id": "mrAiwfZczA56"
      },
      "execution_count": 3,
      "outputs": []
    },
    {
      "cell_type": "code",
      "source": [
        "MAX_SEQUENCE_LENGTH = 100\n",
        "EMBEDDING_DIM = 100\n",
        "BATCH_SIZE = 64\n",
        "EPOCHS = 100\n",
        "LATENT_DIM = 512\n",
        "LATENT_DIM_DECODER = 256\n",
        "NUM_SAMPLES = 13_000\n",
        "MAX_NUM_WORDS = 20_000"
      ],
      "metadata": {
        "id": "YUQmOKczzvtg"
      },
      "execution_count": 4,
      "outputs": []
    },
    {
      "cell_type": "code",
      "source": [
        "if not os.path.exists(\"/content/spanish\"):\n",
        "  !wget -nc https://www.manythings.org/anki/spa-eng.zip\n",
        "  !unzip spa-eng.zip -d /content/spanish"
      ],
      "metadata": {
        "colab": {
          "base_uri": "https://localhost:8080/"
        },
        "id": "GJUQQL4p0pzr",
        "outputId": "a59bd577-e509-40fa-fb40-855caef5991a"
      },
      "execution_count": 5,
      "outputs": [
        {
          "output_type": "stream",
          "name": "stdout",
          "text": [
            "--2025-03-01 15:02:34--  https://www.manythings.org/anki/spa-eng.zip\n",
            "Resolving www.manythings.org (www.manythings.org)... 173.254.30.110\n",
            "Connecting to www.manythings.org (www.manythings.org)|173.254.30.110|:443... connected.\n",
            "HTTP request sent, awaiting response... 200 OK\n",
            "Length: 5420295 (5.2M) [application/zip]\n",
            "Saving to: ‘spa-eng.zip’\n",
            "\n",
            "spa-eng.zip         100%[===================>]   5.17M  8.83MB/s    in 0.6s    \n",
            "\n",
            "2025-03-01 15:02:35 (8.83 MB/s) - ‘spa-eng.zip’ saved [5420295/5420295]\n",
            "\n",
            "Archive:  spa-eng.zip\n",
            "  inflating: /content/spanish/_about.txt  \n",
            "  inflating: /content/spanish/spa.txt  \n"
          ]
        }
      ]
    },
    {
      "cell_type": "code",
      "source": [
        "input_texts = []\n",
        "target_texts = []\n",
        "target_texts_inputs = []"
      ],
      "metadata": {
        "id": "Ya8-KpAI0QoH"
      },
      "execution_count": 6,
      "outputs": []
    },
    {
      "cell_type": "code",
      "source": [
        "t = 0\n",
        "for line in open('/content/spanish/spa.txt', encoding=\"utf-8\"):\n",
        "  t += 1\n",
        "  if t > NUM_SAMPLES:\n",
        "    break\n",
        "\n",
        "  if '\\t' not in line:\n",
        "    continue\n",
        "\n",
        "  input_text, translation, *rest = line.rstrip().split('\\t')\n",
        "\n",
        "  target_text = translation + ' <eos>'\n",
        "  target_text_input = '<sos> ' + translation\n",
        "\n",
        "  input_texts.append(input_text)\n",
        "  target_texts.append(target_text)\n",
        "  target_texts_inputs.append(target_text_input)\n",
        "\n",
        "\n",
        "print(\"num samples:\", len(input_texts))"
      ],
      "metadata": {
        "colab": {
          "base_uri": "https://localhost:8080/"
        },
        "id": "8l-T8Erp0Uxf",
        "outputId": "b3ce36d2-8100-444e-f232-5885da86b66d"
      },
      "execution_count": 7,
      "outputs": [
        {
          "output_type": "stream",
          "name": "stdout",
          "text": [
            "num samples: 13000\n"
          ]
        }
      ]
    },
    {
      "cell_type": "code",
      "source": [
        "tokenizer_inputs = Tokenizer(num_words=MAX_NUM_WORDS)\n",
        "tokenizer_inputs.fit_on_texts(input_texts)\n",
        "input_sequences = tokenizer_inputs.texts_to_sequences(input_texts)"
      ],
      "metadata": {
        "id": "GQx1YGOP1zth"
      },
      "execution_count": 8,
      "outputs": []
    },
    {
      "cell_type": "code",
      "source": [
        "word2idx_inputs = tokenizer_inputs.word_index\n",
        "print('Found %s unique input tokens.' % len(word2idx_inputs))"
      ],
      "metadata": {
        "id": "NZzD3xwf5qjV",
        "colab": {
          "base_uri": "https://localhost:8080/"
        },
        "outputId": "5cddb171-702d-4e44-85ba-858f7e7d8d17"
      },
      "execution_count": 9,
      "outputs": [
        {
          "output_type": "stream",
          "name": "stdout",
          "text": [
            "Found 2760 unique input tokens.\n"
          ]
        }
      ]
    },
    {
      "cell_type": "code",
      "source": [
        "max_len_input = max(len(s) for s in input_sequences)"
      ],
      "metadata": {
        "id": "WyiZcWx751LI"
      },
      "execution_count": 10,
      "outputs": []
    },
    {
      "cell_type": "code",
      "source": [
        "tokenizer_outputs = Tokenizer(num_words=MAX_NUM_WORDS, filters='')\n",
        "tokenizer_outputs.fit_on_texts(target_texts + target_texts_inputs)\n",
        "target_sequences = tokenizer_outputs.texts_to_sequences(target_texts)\n",
        "target_sequences_inputs = tokenizer_outputs.texts_to_sequences(target_texts_inputs)"
      ],
      "metadata": {
        "id": "gsPSemQd54FS"
      },
      "execution_count": 11,
      "outputs": []
    },
    {
      "cell_type": "code",
      "source": [
        "word2idx_outputs = tokenizer_outputs.word_index\n",
        "print('Found %s unique output tokens.' % len(word2idx_outputs))"
      ],
      "metadata": {
        "id": "OPTOS2E56ESb",
        "colab": {
          "base_uri": "https://localhost:8080/"
        },
        "outputId": "fbdc6f0d-bb2c-4b6c-da1d-8666b63ab09b"
      },
      "execution_count": 12,
      "outputs": [
        {
          "output_type": "stream",
          "name": "stdout",
          "text": [
            "Found 7764 unique output tokens.\n"
          ]
        }
      ]
    },
    {
      "cell_type": "code",
      "source": [
        "num_words_output = len(word2idx_outputs) + 1"
      ],
      "metadata": {
        "id": "F58PrRIU6WZ6"
      },
      "execution_count": 13,
      "outputs": []
    },
    {
      "cell_type": "code",
      "source": [
        "max_len_target = max(len(s) for s in target_sequences)"
      ],
      "metadata": {
        "id": "i76NFzFK6c-E"
      },
      "execution_count": 14,
      "outputs": []
    },
    {
      "cell_type": "code",
      "source": [
        "encoder_inputs = pad_sequences(input_sequences, maxlen=max_len_input)\n",
        "print(\"encoder_data.shape:\", encoder_inputs.shape)\n",
        "print(\"encoder_data[0]:\", encoder_inputs[0])"
      ],
      "metadata": {
        "id": "Z2wPKYu76hur",
        "colab": {
          "base_uri": "https://localhost:8080/"
        },
        "outputId": "e3b1c91f-6cc9-4c54-e2d7-c6e25edf74d2"
      },
      "execution_count": 15,
      "outputs": [
        {
          "output_type": "stream",
          "name": "stdout",
          "text": [
            "encoder_data.shape: (13000, 5)\n",
            "encoder_data[0]: [ 0  0  0  0 19]\n"
          ]
        }
      ]
    },
    {
      "cell_type": "code",
      "source": [
        "decoder_inputs = pad_sequences(target_sequences_inputs, maxlen=max_len_target, padding='post')\n",
        "print(\"decoder_data[0]:\", decoder_inputs[0])\n",
        "print(\"decoder_data.shape:\", decoder_inputs.shape)"
      ],
      "metadata": {
        "id": "Ye2mAfI06sqm",
        "colab": {
          "base_uri": "https://localhost:8080/"
        },
        "outputId": "c1b0b937-b55e-4be9-d37f-0d3e1736e499"
      },
      "execution_count": 16,
      "outputs": [
        {
          "output_type": "stream",
          "name": "stdout",
          "text": [
            "decoder_data[0]: [   2 1869    0    0    0    0    0    0    0    0]\n",
            "decoder_data.shape: (13000, 10)\n"
          ]
        }
      ]
    },
    {
      "cell_type": "code",
      "source": [
        "decoder_targets = pad_sequences(target_sequences, maxlen=max_len_target, padding='post')"
      ],
      "metadata": {
        "id": "jscqfSOT60if"
      },
      "execution_count": 17,
      "outputs": []
    },
    {
      "cell_type": "code",
      "source": [
        "if not os.path.exists(\"/content/glove6b\"):\n",
        "  !wget -nc https://nlp.stanford.edu/data/glove.6B.zip\n",
        "  !unzip glove.6B.zip -d /content/glove6b"
      ],
      "metadata": {
        "id": "_G9OvSnV7t3R",
        "colab": {
          "base_uri": "https://localhost:8080/"
        },
        "outputId": "0d065ef4-4054-48ce-fabe-1dde050314c2"
      },
      "execution_count": 18,
      "outputs": [
        {
          "output_type": "stream",
          "name": "stdout",
          "text": [
            "--2025-03-01 15:02:36--  https://nlp.stanford.edu/data/glove.6B.zip\n",
            "Resolving nlp.stanford.edu (nlp.stanford.edu)... 171.64.67.140\n",
            "Connecting to nlp.stanford.edu (nlp.stanford.edu)|171.64.67.140|:443... connected.\n",
            "HTTP request sent, awaiting response... 301 Moved Permanently\n",
            "Location: https://downloads.cs.stanford.edu/nlp/data/glove.6B.zip [following]\n",
            "--2025-03-01 15:02:36--  https://downloads.cs.stanford.edu/nlp/data/glove.6B.zip\n",
            "Resolving downloads.cs.stanford.edu (downloads.cs.stanford.edu)... 171.64.64.22\n",
            "Connecting to downloads.cs.stanford.edu (downloads.cs.stanford.edu)|171.64.64.22|:443... connected.\n",
            "HTTP request sent, awaiting response... 200 OK\n",
            "Length: 862182613 (822M) [application/zip]\n",
            "Saving to: ‘glove.6B.zip’\n",
            "\n",
            "glove.6B.zip        100%[===================>] 822.24M  5.02MB/s    in 2m 39s  \n",
            "\n",
            "2025-03-01 15:05:16 (5.17 MB/s) - ‘glove.6B.zip’ saved [862182613/862182613]\n",
            "\n",
            "Archive:  glove.6B.zip\n",
            "  inflating: /content/glove6b/glove.6B.50d.txt  \n",
            "  inflating: /content/glove6b/glove.6B.100d.txt  \n",
            "  inflating: /content/glove6b/glove.6B.200d.txt  \n",
            "  inflating: /content/glove6b/glove.6B.300d.txt  \n"
          ]
        }
      ]
    },
    {
      "cell_type": "code",
      "source": [
        "print('Loading word vectors...')\n",
        "word2vec = {}\n",
        "\n",
        "with open(os.path.join('/content/glove6b/glove.6B.%sd.txt' % EMBEDDING_DIM), encoding=\"utf8\") as f:\n",
        "  for line in f:\n",
        "    values = line.split()\n",
        "    word = values[0]\n",
        "    vec = np.asarray(values[1:], dtype='float32')\n",
        "    word2vec[word] = vec\n",
        "\n",
        "print(f'Found {len(word2vec)} word vectors.')"
      ],
      "metadata": {
        "id": "i8vPhA7j688-",
        "colab": {
          "base_uri": "https://localhost:8080/"
        },
        "outputId": "29683e82-1cd2-49bc-e0a6-80c55107cd17"
      },
      "execution_count": 19,
      "outputs": [
        {
          "output_type": "stream",
          "name": "stdout",
          "text": [
            "Loading word vectors...\n",
            "Found 400000 word vectors.\n"
          ]
        }
      ]
    },
    {
      "cell_type": "code",
      "source": [
        "print('Filling pre-trained embeddings...')\n",
        "num_words = min(MAX_NUM_WORDS, len(word2idx_inputs) + 1)\n",
        "embedding_matrix = np.zeros((num_words, EMBEDDING_DIM))\n",
        "\n",
        "for word, i in word2idx_inputs.items():\n",
        "  if i < MAX_NUM_WORDS:\n",
        "    embedding_vector = word2vec.get(word)\n",
        "    if embedding_vector is not None:\n",
        "      embedding_matrix[i] = embedding_vector"
      ],
      "metadata": {
        "id": "w7aOdKAS8HQW",
        "colab": {
          "base_uri": "https://localhost:8080/"
        },
        "outputId": "0c7cf7f1-ede9-4174-ab8f-91203d722231"
      },
      "execution_count": 20,
      "outputs": [
        {
          "output_type": "stream",
          "name": "stdout",
          "text": [
            "Filling pre-trained embeddings...\n"
          ]
        }
      ]
    },
    {
      "cell_type": "code",
      "source": [
        "embedding_layer = Embedding(\n",
        "    num_words,\n",
        "    EMBEDDING_DIM,\n",
        "    weights=[embedding_matrix],\n",
        "    input_length=max_len_input,\n",
        "    # trainable=False\n",
        ")"
      ],
      "metadata": {
        "id": "0pGWBhWs9Of5",
        "colab": {
          "base_uri": "https://localhost:8080/"
        },
        "outputId": "c09a96db-153b-41a5-b41e-96cfb12db301"
      },
      "execution_count": 21,
      "outputs": [
        {
          "output_type": "stream",
          "name": "stderr",
          "text": [
            "/usr/local/lib/python3.11/dist-packages/keras/src/layers/core/embedding.py:90: UserWarning: Argument `input_length` is deprecated. Just remove it.\n",
            "  warnings.warn(\n"
          ]
        }
      ]
    },
    {
      "cell_type": "code",
      "source": [
        "decoder_targets_one_hot = np.zeros(\n",
        "    (\n",
        "        len(input_texts),\n",
        "        max_len_target,\n",
        "        num_words_output\n",
        "    ),\n",
        "    dtype='float32'\n",
        ")"
      ],
      "metadata": {
        "id": "xZOEcey19htX"
      },
      "execution_count": 22,
      "outputs": []
    },
    {
      "cell_type": "code",
      "source": [
        "for i, d in enumerate(decoder_targets):\n",
        "  for t, word in enumerate(d):\n",
        "    decoder_targets_one_hot[i, t, word] = 1"
      ],
      "metadata": {
        "id": "VE6LmhZz9qk9"
      },
      "execution_count": 23,
      "outputs": []
    },
    {
      "cell_type": "code",
      "source": [
        "encoder_inputs_placeholder = Input(shape=(max_len_input,))\n",
        "x = embedding_layer(encoder_inputs_placeholder)\n",
        "\n",
        "encoder = Bidirectional(LSTM(\n",
        "    LATENT_DIM,\n",
        "    return_sequences=True,\n",
        "    dropout=0.5,\n",
        "    recurrent_dropout=0.5\n",
        "))\n",
        "\n",
        "encoder2 = Bidirectional(LSTM(\n",
        "    LATENT_DIM, return_sequences=True, dropout=0.5, recurrent_dropout=0.5\n",
        "))\n",
        "\n",
        "encoder_outputs = encoder2(encoder(x))"
      ],
      "metadata": {
        "id": "RAMokWfCU7re"
      },
      "execution_count": 24,
      "outputs": []
    },
    {
      "cell_type": "code",
      "source": [
        "decoder_inputs_placeholder = Input(shape=(max_len_target,))"
      ],
      "metadata": {
        "id": "6XwqgN00VVe9"
      },
      "execution_count": 25,
      "outputs": []
    },
    {
      "cell_type": "code",
      "source": [
        "decoder_embedding = Embedding(num_words_output, EMBEDDING_DIM)\n",
        "decoder_inputs_x = decoder_embedding(decoder_inputs_placeholder)"
      ],
      "metadata": {
        "id": "Na36LLj0VZrc"
      },
      "execution_count": 26,
      "outputs": []
    },
    {
      "cell_type": "code",
      "source": [
        "attn_repeat_layer = RepeatVector(max_len_input)\n",
        "attn_concat_layer = Concatenate(axis=-1)\n",
        "attn_dense1 = Dense(10, activation='tanh')\n",
        "attn_dense2 = Dense(1, activation=softmax_over_time)\n",
        "att_dot = Dot(axes=1)"
      ],
      "metadata": {
        "id": "j9iaH0YOVqrM"
      },
      "execution_count": 27,
      "outputs": []
    },
    {
      "cell_type": "code",
      "source": [
        "def one_step_attention(h, st_1):\n",
        "  st_1 = attn_repeat_layer(st_1)\n",
        "  x = attn_concat_layer([h, st_1])\n",
        "  x = attn_dense1(x)\n",
        "  alphas = attn_dense2(x)\n",
        "  context = att_dot([alphas, h])\n",
        "  return context"
      ],
      "metadata": {
        "id": "3TPWwcU9WDg1"
      },
      "execution_count": 28,
      "outputs": []
    },
    {
      "cell_type": "code",
      "source": [
        "decoder_lstm = LSTM(LATENT_DIM_DECODER, return_state=True)\n",
        "decoder_dense = Dense(num_words_output, activation='softmax')"
      ],
      "metadata": {
        "id": "w9YIUiosWdaN"
      },
      "execution_count": 29,
      "outputs": []
    },
    {
      "cell_type": "code",
      "source": [
        "initial_s = Input(shape=(LATENT_DIM_DECODER,), name='s0')\n",
        "initial_c = Input(shape=(LATENT_DIM_DECODER,), name='c0')\n",
        "context_last_word_concat_layer = Concatenate(axis=2)"
      ],
      "metadata": {
        "id": "P7F9BXjqXz-c"
      },
      "execution_count": 30,
      "outputs": []
    },
    {
      "cell_type": "code",
      "source": [
        "s = initial_s\n",
        "c = initial_c"
      ],
      "metadata": {
        "id": "Amqur2QiYXax"
      },
      "execution_count": 31,
      "outputs": []
    },
    {
      "cell_type": "code",
      "source": [
        "outputs = []\n",
        "for t in range(max_len_target):\n",
        "  context = one_step_attention(encoder_outputs, s)\n",
        "\n",
        "  selector = Lambda(lambda x: x[:, t:t+1])\n",
        "  xt = selector(decoder_inputs_x)\n",
        "\n",
        "  decoder_lstm_input = context_last_word_concat_layer([context, xt])\n",
        "\n",
        "  o, s, c = decoder_lstm(decoder_lstm_input, initial_state=[s, c])\n",
        "\n",
        "  decoder_outputs = decoder_dense(o)\n",
        "  outputs.append(decoder_outputs)"
      ],
      "metadata": {
        "id": "bDBvjkb_Yg1q"
      },
      "execution_count": 32,
      "outputs": []
    },
    {
      "cell_type": "code",
      "source": [
        "def stack_and_transpose(x):\n",
        "  x = stack(x)\n",
        "  x = transpose(x, perm=[1, 0, 2])\n",
        "\n",
        "  return x"
      ],
      "metadata": {
        "id": "i4I8EjzGdgZi"
      },
      "execution_count": 33,
      "outputs": []
    },
    {
      "cell_type": "code",
      "source": [
        "stacker = Lambda(stack_and_transpose)\n",
        "outputs = stacker(outputs)"
      ],
      "metadata": {
        "id": "aIr80ORTe6u3"
      },
      "execution_count": 34,
      "outputs": []
    },
    {
      "cell_type": "code",
      "source": [
        "model = Model(\n",
        "  inputs=[\n",
        "    encoder_inputs_placeholder,\n",
        "    decoder_inputs_placeholder,\n",
        "    initial_s,\n",
        "    initial_c,\n",
        "  ],\n",
        "  outputs=outputs\n",
        ")"
      ],
      "metadata": {
        "id": "6j39_lQjdgPl"
      },
      "execution_count": 35,
      "outputs": []
    },
    {
      "cell_type": "code",
      "source": [
        "lr_schedule = ExponentialDecay(initial_learning_rate=0.01, decay_steps=10000, decay_rate=0.9)\n",
        "\n",
        "optimizer = RMSprop(learning_rate=lr_schedule, clipnorm=1.0)\n",
        "\n",
        "# optimizer = Adam(learning_rate=lr_schedule, clipnorm=1.0)"
      ],
      "metadata": {
        "id": "RruBzpvyHZ0f"
      },
      "execution_count": 36,
      "outputs": []
    },
    {
      "cell_type": "code",
      "source": [
        "model.compile(\n",
        "    optimizer=optimizer,\n",
        "  \tloss='categorical_crossentropy',\n",
        "  \tmetrics=['accuracy']\n",
        ")"
      ],
      "metadata": {
        "id": "ljGtzCreYZk4"
      },
      "execution_count": 37,
      "outputs": []
    },
    {
      "cell_type": "code",
      "source": [
        "early_stopping = EarlyStopping(\n",
        "    monitor='val_loss',  # Metric to monitor\n",
        "    patience=5,  # Number of epochs with no improvement after which training will be stopped\n",
        "    verbose=1,  # Display messages when early stopping\n",
        "    restore_best_weights=True  # Restore model weights from the epoch with the best value of the monitored metric\n",
        ")"
      ],
      "metadata": {
        "id": "H37V6Q3NITo8"
      },
      "execution_count": 38,
      "outputs": []
    },
    {
      "cell_type": "code",
      "source": [
        "z = np.zeros((NUM_SAMPLES, LATENT_DIM_DECODER))"
      ],
      "metadata": {
        "id": "H6nTZfCYnFOm"
      },
      "execution_count": 39,
      "outputs": []
    },
    {
      "cell_type": "code",
      "source": [
        "r = model.fit(\n",
        "    [encoder_inputs, decoder_inputs, z, z],\n",
        "    decoder_targets_one_hot,\n",
        "    batch_size=BATCH_SIZE,\n",
        "    epochs=EPOCHS,\n",
        "    validation_split=0.2\n",
        "    ,callbacks=[early_stopping]\n",
        ")"
      ],
      "metadata": {
        "id": "GjoWQ-oinMIu",
        "colab": {
          "base_uri": "https://localhost:8080/"
        },
        "outputId": "6e0207d6-0516-4460-aa83-ced03e3d0059"
      },
      "execution_count": 40,
      "outputs": [
        {
          "output_type": "stream",
          "name": "stdout",
          "text": [
            "Epoch 1/100\n",
            "\u001b[1m163/163\u001b[0m \u001b[32m━━━━━━━━━━━━━━━━━━━━\u001b[0m\u001b[37m\u001b[0m \u001b[1m358s\u001b[0m 2s/step - accuracy: 0.5819 - loss: 3.2540 - val_accuracy: 0.6260 - val_loss: 2.5978\n",
            "Epoch 2/100\n",
            "\u001b[1m163/163\u001b[0m \u001b[32m━━━━━━━━━━━━━━━━━━━━\u001b[0m\u001b[37m\u001b[0m \u001b[1m306s\u001b[0m 2s/step - accuracy: 0.6673 - loss: 2.1932 - val_accuracy: 0.6368 - val_loss: 2.4589\n",
            "Epoch 3/100\n",
            "\u001b[1m163/163\u001b[0m \u001b[32m━━━━━━━━━━━━━━━━━━━━\u001b[0m\u001b[37m\u001b[0m \u001b[1m326s\u001b[0m 2s/step - accuracy: 0.6885 - loss: 2.0204 - val_accuracy: 0.6432 - val_loss: 2.4021\n",
            "Epoch 4/100\n",
            "\u001b[1m163/163\u001b[0m \u001b[32m━━━━━━━━━━━━━━━━━━━━\u001b[0m\u001b[37m\u001b[0m \u001b[1m307s\u001b[0m 2s/step - accuracy: 0.7034 - loss: 1.8700 - val_accuracy: 0.6637 - val_loss: 2.2713\n",
            "Epoch 5/100\n",
            "\u001b[1m163/163\u001b[0m \u001b[32m━━━━━━━━━━━━━━━━━━━━\u001b[0m\u001b[37m\u001b[0m \u001b[1m323s\u001b[0m 2s/step - accuracy: 0.7170 - loss: 1.7381 - val_accuracy: 0.6748 - val_loss: 2.2058\n",
            "Epoch 6/100\n",
            "\u001b[1m163/163\u001b[0m \u001b[32m━━━━━━━━━━━━━━━━━━━━\u001b[0m\u001b[37m\u001b[0m \u001b[1m300s\u001b[0m 2s/step - accuracy: 0.7260 - loss: 1.6278 - val_accuracy: 0.6725 - val_loss: 2.2045\n",
            "Epoch 7/100\n",
            "\u001b[1m163/163\u001b[0m \u001b[32m━━━━━━━━━━━━━━━━━━━━\u001b[0m\u001b[37m\u001b[0m \u001b[1m323s\u001b[0m 2s/step - accuracy: 0.7321 - loss: 1.5336 - val_accuracy: 0.6835 - val_loss: 2.1312\n",
            "Epoch 8/100\n",
            "\u001b[1m163/163\u001b[0m \u001b[32m━━━━━━━━━━━━━━━━━━━━\u001b[0m\u001b[37m\u001b[0m \u001b[1m317s\u001b[0m 2s/step - accuracy: 0.7440 - loss: 1.4268 - val_accuracy: 0.6932 - val_loss: 2.0971\n",
            "Epoch 9/100\n",
            "\u001b[1m163/163\u001b[0m \u001b[32m━━━━━━━━━━━━━━━━━━━━\u001b[0m\u001b[37m\u001b[0m \u001b[1m302s\u001b[0m 2s/step - accuracy: 0.7476 - loss: 1.3503 - val_accuracy: 0.6903 - val_loss: 2.0821\n",
            "Epoch 10/100\n",
            "\u001b[1m163/163\u001b[0m \u001b[32m━━━━━━━━━━━━━━━━━━━━\u001b[0m\u001b[37m\u001b[0m \u001b[1m326s\u001b[0m 2s/step - accuracy: 0.7573 - loss: 1.2736 - val_accuracy: 0.6965 - val_loss: 2.0334\n",
            "Epoch 11/100\n",
            "\u001b[1m163/163\u001b[0m \u001b[32m━━━━━━━━━━━━━━━━━━━━\u001b[0m\u001b[37m\u001b[0m \u001b[1m312s\u001b[0m 2s/step - accuracy: 0.7586 - loss: 1.2073 - val_accuracy: 0.7036 - val_loss: 1.9857\n",
            "Epoch 12/100\n",
            "\u001b[1m163/163\u001b[0m \u001b[32m━━━━━━━━━━━━━━━━━━━━\u001b[0m\u001b[37m\u001b[0m \u001b[1m309s\u001b[0m 2s/step - accuracy: 0.7654 - loss: 1.1522 - val_accuracy: 0.7079 - val_loss: 1.9688\n",
            "Epoch 13/100\n",
            "\u001b[1m163/163\u001b[0m \u001b[32m━━━━━━━━━━━━━━━━━━━━\u001b[0m\u001b[37m\u001b[0m \u001b[1m299s\u001b[0m 2s/step - accuracy: 0.7686 - loss: 1.1022 - val_accuracy: 0.6972 - val_loss: 1.9681\n",
            "Epoch 14/100\n",
            "\u001b[1m163/163\u001b[0m \u001b[32m━━━━━━━━━━━━━━━━━━━━\u001b[0m\u001b[37m\u001b[0m \u001b[1m297s\u001b[0m 2s/step - accuracy: 0.7741 - loss: 1.0428 - val_accuracy: 0.7057 - val_loss: 1.9647\n",
            "Epoch 15/100\n",
            "\u001b[1m163/163\u001b[0m \u001b[32m━━━━━━━━━━━━━━━━━━━━\u001b[0m\u001b[37m\u001b[0m \u001b[1m329s\u001b[0m 2s/step - accuracy: 0.7776 - loss: 1.0058 - val_accuracy: 0.7117 - val_loss: 1.9491\n",
            "Epoch 16/100\n",
            "\u001b[1m163/163\u001b[0m \u001b[32m━━━━━━━━━━━━━━━━━━━━\u001b[0m\u001b[37m\u001b[0m \u001b[1m302s\u001b[0m 2s/step - accuracy: 0.7804 - loss: 0.9654 - val_accuracy: 0.6987 - val_loss: 1.9821\n",
            "Epoch 17/100\n",
            "\u001b[1m163/163\u001b[0m \u001b[32m━━━━━━━━━━━━━━━━━━━━\u001b[0m\u001b[37m\u001b[0m \u001b[1m319s\u001b[0m 2s/step - accuracy: 0.7854 - loss: 0.9215 - val_accuracy: 0.7135 - val_loss: 1.9290\n",
            "Epoch 18/100\n",
            "\u001b[1m163/163\u001b[0m \u001b[32m━━━━━━━━━━━━━━━━━━━━\u001b[0m\u001b[37m\u001b[0m \u001b[1m318s\u001b[0m 2s/step - accuracy: 0.7933 - loss: 0.8735 - val_accuracy: 0.7117 - val_loss: 1.9479\n",
            "Epoch 19/100\n",
            "\u001b[1m163/163\u001b[0m \u001b[32m━━━━━━━━━━━━━━━━━━━━\u001b[0m\u001b[37m\u001b[0m \u001b[1m325s\u001b[0m 2s/step - accuracy: 0.7945 - loss: 0.8393 - val_accuracy: 0.7161 - val_loss: 1.9280\n",
            "Epoch 20/100\n",
            "\u001b[1m163/163\u001b[0m \u001b[32m━━━━━━━━━━━━━━━━━━━━\u001b[0m\u001b[37m\u001b[0m \u001b[1m318s\u001b[0m 2s/step - accuracy: 0.7997 - loss: 0.8046 - val_accuracy: 0.7183 - val_loss: 1.9292\n",
            "Epoch 21/100\n",
            "\u001b[1m163/163\u001b[0m \u001b[32m━━━━━━━━━━━━━━━━━━━━\u001b[0m\u001b[37m\u001b[0m \u001b[1m328s\u001b[0m 2s/step - accuracy: 0.8059 - loss: 0.7664 - val_accuracy: 0.7143 - val_loss: 1.9399\n",
            "Epoch 22/100\n",
            "\u001b[1m163/163\u001b[0m \u001b[32m━━━━━━━━━━━━━━━━━━━━\u001b[0m\u001b[37m\u001b[0m \u001b[1m305s\u001b[0m 2s/step - accuracy: 0.8034 - loss: 0.7573 - val_accuracy: 0.7172 - val_loss: 1.9442\n",
            "Epoch 23/100\n",
            "\u001b[1m163/163\u001b[0m \u001b[32m━━━━━━━━━━━━━━━━━━━━\u001b[0m\u001b[37m\u001b[0m \u001b[1m317s\u001b[0m 2s/step - accuracy: 0.8088 - loss: 0.7286 - val_accuracy: 0.7158 - val_loss: 1.9423\n",
            "Epoch 24/100\n",
            "\u001b[1m163/163\u001b[0m \u001b[32m━━━━━━━━━━━━━━━━━━━━\u001b[0m\u001b[37m\u001b[0m \u001b[1m319s\u001b[0m 2s/step - accuracy: 0.8151 - loss: 0.6973 - val_accuracy: 0.7175 - val_loss: 1.9461\n",
            "Epoch 24: early stopping\n",
            "Restoring model weights from the end of the best epoch: 19.\n"
          ]
        }
      ]
    },
    {
      "cell_type": "code",
      "source": [
        "plt.plot(r.history['loss'], label='loss')\n",
        "plt.plot(r.history['val_loss'], label='val_loss')\n",
        "plt.legend()\n",
        "plt.show()"
      ],
      "metadata": {
        "id": "N_Zst68MIo4h",
        "colab": {
          "base_uri": "https://localhost:8080/",
          "height": 433
        },
        "outputId": "c426b0d3-18a9-4c80-cd5c-1e35db117ab3"
      },
      "execution_count": 41,
      "outputs": [
        {
          "output_type": "display_data",
          "data": {
            "text/plain": [
              "<Figure size 640x480 with 1 Axes>"
            ],
            "image/png": "[encoded data removed]"
          },
          "metadata": {}
        }
      ]
    },
    {
      "cell_type": "code",
      "source": [
        "plt.plot(r.history['accuracy'], label='acc')\n",
        "plt.plot(r.history['val_accuracy'], label='val_acc')\n",
        "plt.legend()\n",
        "plt.show()"
      ],
      "metadata": {
        "id": "vDiIU5DXIsKU",
        "colab": {
          "base_uri": "https://localhost:8080/",
          "height": 430
        },
        "outputId": "c151c775-a6e6-42be-cb1e-c2e857ef9b6d"
      },
      "execution_count": 42,
      "outputs": [
        {
          "output_type": "display_data",
          "data": {
            "text/plain": [
              "<Figure size 640x480 with 1 Axes>"
            ],
            "image/png": "[encoded data removed]"
          },
          "metadata": {}
        }
      ]
    },
    {
      "cell_type": "code",
      "source": [
        "encoder_model = Model(encoder_inputs_placeholder, encoder_outputs)"
      ],
      "metadata": {
        "id": "W_uyT1D4FeE6"
      },
      "execution_count": 43,
      "outputs": []
    },
    {
      "cell_type": "code",
      "source": [
        "encoder_outputs_as_input = Input(shape=(max_len_input, LATENT_DIM * 2,))\n",
        "decoder_inputs_single = Input(shape=(1,))\n",
        "decoder_inputs_single_x = decoder_embedding(decoder_inputs_single)"
      ],
      "metadata": {
        "id": "3BFACTexob7V"
      },
      "execution_count": 44,
      "outputs": []
    },
    {
      "cell_type": "code",
      "source": [
        "context = one_step_attention(encoder_outputs_as_input, initial_s)\n",
        "\n",
        "decoder_lstm_input = context_last_word_concat_layer([context, decoder_inputs_single_x])"
      ],
      "metadata": {
        "id": "13tutnEaI6Tp"
      },
      "execution_count": 45,
      "outputs": []
    },
    {
      "cell_type": "code",
      "source": [
        "o, s, c = decoder_lstm(decoder_lstm_input, initial_state=[initial_s, initial_c])\n",
        "decoder_outputs = decoder_dense(o)"
      ],
      "metadata": {
        "id": "YRm7mbG2ocK5"
      },
      "execution_count": 46,
      "outputs": []
    },
    {
      "cell_type": "code",
      "source": [
        "decoder_model = Model(\n",
        "  inputs=[\n",
        "    decoder_inputs_single,\n",
        "    encoder_outputs_as_input,\n",
        "    initial_s,\n",
        "    initial_c\n",
        "  ],\n",
        "  outputs=[decoder_outputs, s, c]\n",
        ")"
      ],
      "metadata": {
        "id": "pc-xf5MVooWY"
      },
      "execution_count": 47,
      "outputs": []
    },
    {
      "cell_type": "code",
      "source": [
        "idx2word_eng = {v:k for k, v in word2idx_inputs.items()}\n",
        "idx2word_trans = {v:k for k, v in word2idx_outputs.items()}"
      ],
      "metadata": {
        "id": "tAkAfDaSpoas"
      },
      "execution_count": 48,
      "outputs": []
    },
    {
      "cell_type": "code",
      "source": [
        "def decode_sequence(input_seq):\n",
        "  enc_out = encoder_model.predict(input_seq, verbose=0)\n",
        "\n",
        "  target_seq = np.zeros((1,1))\n",
        "\n",
        "  eos = word2idx_outputs['<eos>']\n",
        "\n",
        "  s = np.zeros((1, LATENT_DIM_DECODER))\n",
        "  c = np.zeros((1, LATENT_DIM_DECODER))\n",
        "\n",
        "  output_sentence = []\n",
        "  for _ in range(max_len_target):\n",
        "    o, s, c = decoder_model.predict([target_seq, enc_out, s, c], verbose = 0)\n",
        "\n",
        "    idx = np.argmax(o.flatten())\n",
        "\n",
        "    if eos == idx:\n",
        "      break\n",
        "\n",
        "    word = ''\n",
        "    if idx > 0:\n",
        "      word = idx2word_trans[idx]\n",
        "      output_sentence.append(word)\n",
        "\n",
        "    target_seq[0, 0] = idx\n",
        "\n",
        "  return ' '.join(output_sentence)\n",
        "\n"
      ],
      "metadata": {
        "id": "PhmAUdwspx0o"
      },
      "execution_count": 49,
      "outputs": []
    },
    {
      "cell_type": "code",
      "source": [
        "def translate():\n",
        "  phrase = input(\"What word would you like to translate from English to Spanish? \")\n",
        "  phrase_sequences = tokenizer_inputs.texts_to_sequences([phrase])\n",
        "  pharse_encoded = pad_sequences(phrase_sequences, maxlen=max_len_input)\n",
        "  return phrase, pharse_encoded"
      ],
      "metadata": {
        "id": "_BIxsg4Q3Eie"
      },
      "execution_count": 50,
      "outputs": []
    },
    {
      "cell_type": "code",
      "source": [
        "while True:\n",
        "  phrase, pharse_encoded = translate()\n",
        "  translation = decode_sequence(pharse_encoded)\n",
        "  print('-')\n",
        "  print('Input:', phrase)\n",
        "  print('Translation:', translation)\n",
        "\n",
        "  ans = input('Continue? [y/n] ')\n",
        "  if ans and ans.lower().startswith('n'):\n",
        "    break"
      ],
      "metadata": {
        "id": "WHpNEicV3Jny",
        "colab": {
          "base_uri": "https://localhost:8080/"
        },
        "outputId": "16c04802-0457-49fd-a663-8d16fb6270d6"
      },
      "execution_count": 51,
      "outputs": [
        {
          "name": "stdout",
          "output_type": "stream",
          "text": [
            "What word would you like to translate from English to Spanish? dog\n",
            "-\n",
            "Input: dog\n",
            "Translation: hola.\n",
            "Continue? [y/n] y\n",
            "What word would you like to translate from English to Spanish? girl\n",
            "-\n",
            "Input: girl\n",
            "Translation: ¿quién? la\n",
            "Continue? [y/n] y\n",
            "What word would you like to translate from English to Spanish? hi\n",
            "-\n",
            "Input: hi\n",
            "Translation: hola.\n",
            "Continue? [y/n] y\n",
            "What word would you like to translate from English to Spanish? man\n",
            "-\n",
            "Input: man\n",
            "Translation: hola.\n",
            "Continue? [y/n] n\n"
          ]
        }
      ]
    },
    {
      "cell_type": "code",
      "source": [
        "encoder_model.save('encoder_model.keras')\n",
        "decoder_model.save('decoder_model.keras')"
      ],
      "metadata": {
        "id": "_kurSa-c8-4q"
      },
      "execution_count": 52,
      "outputs": []
    },
    {
      "cell_type": "code",
      "source": [
        "with open('tokenizer.json', 'w') as file:\n",
        "    json.dump(tokenizer_inputs.to_json(), file)"
      ],
      "metadata": {
        "id": "HavQnYe59eZG"
      },
      "execution_count": 53,
      "outputs": []
    },
    {
      "cell_type": "code",
      "source": [
        "with open('idx2word_trans.pkl', 'wb') as f:\n",
        "    pickle.dump(idx2word_trans, f)"
      ],
      "metadata": {
        "id": "BpK7yClRHglT"
      },
      "execution_count": 54,
      "outputs": []
    },
    {
      "cell_type": "code",
      "source": [
        "\n",
        "with open('word2idx_outputs.pkl', 'wb') as f:\n",
        "    pickle.dump(word2idx_outputs, f)"
      ],
      "metadata": {
        "id": "nPOS-Q8aIjm6"
      },
      "execution_count": 55,
      "outputs": []
    }
  ]
}