{
  "nbformat": 4,
  "nbformat_minor": 0,
  "metadata": {
    "colab": {
      "provenance": [],
      "authorship_tag": "ABX9TyMsaGb93C5xEkQ1JY15j5S+",
      "include_colab_link": true
    },
    "kernelspec": {
      "name": "python3",
      "display_name": "Python 3"
    },
    "language_info": {
      "name": "python"
    }
  },
  "cells": [
    {
      "cell_type": "markdown",
      "metadata": {
        "id": "view-in-github",
        "colab_type": "text"
      },
      "source": [
        "<a href=\"https://colab.research.google.com/github/crodier1/machine_learning_deep_learning/blob/main/Pslam_Generator_Source_Code_NLP_Seq2Seq.ipynb\" target=\"_parent\"><img src=\"https://colab.research.google.com/assets/colab-badge.svg\" alt=\"Open In Colab\"/></a>"
      ]
    },
    {
      "cell_type": "markdown",
      "source": [
        "This is the source code for Pslam_Generator_Seq2Seq_NLP. I highly recomend that you check that model out, so you don't have to retrain this model. That would take a long time. This code creates and trains the model using the Book of Pslams from the Bible. I uses seq2seq to randomly generate bibical pslams."
      ],
      "metadata": {
        "id": "2Iuw6QndZJ6o"
      }
    },
    {
      "cell_type": "code",
      "execution_count": 1,
      "metadata": {
        "colab": {
          "base_uri": "https://localhost:8080/"
        },
        "id": "1FiNppxNjTUX",
        "outputId": "77f2a47e-1585-41f6-ab3d-c99309739d57"
      },
      "outputs": [
        {
          "output_type": "stream",
          "name": "stdout",
          "text": [
            "Requirement already satisfied: future in /usr/local/lib/python3.11/dist-packages (1.0.0)\n"
          ]
        }
      ],
      "source": [
        "!pip install future\n",
        "\n",
        "from __future__ import print_function, division\n",
        "from builtins import range, input"
      ]
    },
    {
      "cell_type": "code",
      "source": [
        "import os\n",
        "import sys\n",
        "import string\n",
        "import numpy as np\n",
        "import pandas as pd\n",
        "import matplotlib.pyplot as plt\n",
        "import re"
      ],
      "metadata": {
        "id": "Hwub0QvVjckH"
      },
      "execution_count": 2,
      "outputs": []
    },
    {
      "cell_type": "code",
      "source": [
        "from keras.models import Model\n",
        "from keras.layers import Dense, Embedding, Input, LSTM, Dropout\n",
        "from tensorflow.keras.preprocessing.text import Tokenizer\n",
        "from keras.preprocessing.sequence import pad_sequences\n",
        "from keras.optimizers import Adam, SGD\n",
        "from tensorflow.keras import regularizers\n",
        "from tensorflow.keras.callbacks import EarlyStopping"
      ],
      "metadata": {
        "id": "QZbaBWapjh6t"
      },
      "execution_count": 3,
      "outputs": []
    },
    {
      "cell_type": "code",
      "source": [
        "MAX_SEQUENCE_LENGTH = 100\n",
        "MAX_VOCAB_SIZE = 3_000\n",
        "EMBEDING_DIM = 50\n",
        "VALIDATION_SPLIT = 0.2\n",
        "BATCH_SIZE = 128\n",
        "EPOCHS = 2000\n",
        "LATENT_DIM = 25"
      ],
      "metadata": {
        "id": "17KUrfYSjkvP"
      },
      "execution_count": 4,
      "outputs": []
    },
    {
      "cell_type": "code",
      "source": [
        "!wget -nc https://raw.githubusercontent.com/crodier1/machine_learning_deep_learning/refs/heads/main/resources/pslams.txt"
      ],
      "metadata": {
        "colab": {
          "base_uri": "https://localhost:8080/"
        },
        "id": "4wHZl6Haj2im",
        "outputId": "fe83a97d-7b31-44d8-f49d-b072667d5bfc"
      },
      "execution_count": 5,
      "outputs": [
        {
          "output_type": "stream",
          "name": "stdout",
          "text": [
            "File ‘pslams.txt’ already there; not retrieving.\n",
            "\n"
          ]
        }
      ]
    },
    {
      "cell_type": "code",
      "source": [
        "input_texts = []\n",
        "target_texts = []\n",
        "for line in open('pslams.txt'):\n",
        "\n",
        "    line = re.sub(r'^\\d+:\\d+\\s+', '', line).rstrip()\n",
        "\n",
        "    if not line:\n",
        "        continue\n",
        "    input_line = '<sos> ' + line\n",
        "    target_line = line + ' <eos>'\n",
        "\n",
        "    input_texts.append(input_line)\n",
        "    target_texts.append(target_line)\n",
        "\n",
        "all_texts = input_texts + target_texts\n"
      ],
      "metadata": {
        "id": "FfRaJDjtj85j"
      },
      "execution_count": 6,
      "outputs": []
    },
    {
      "cell_type": "code",
      "source": [
        "tokenizer = Tokenizer(num_words=MAX_VOCAB_SIZE, filters='')\n",
        "tokenizer.fit_on_texts(all_texts)\n",
        "input_sequences = tokenizer.texts_to_sequences(input_texts)\n",
        "target_sequences = tokenizer.texts_to_sequences(target_texts)"
      ],
      "metadata": {
        "id": "Ky6xFu7ttacV"
      },
      "execution_count": 7,
      "outputs": []
    },
    {
      "cell_type": "code",
      "source": [
        "max_sequences_length_from_data = max(len(s) for s in input_sequences)\n",
        "print('Max sequence length from data is {}'.format(max_sequences_length_from_data))"
      ],
      "metadata": {
        "colab": {
          "base_uri": "https://localhost:8080/"
        },
        "id": "BdzFMnEfteiF",
        "outputId": "5240c16a-76f0-4389-8b2c-18dc5a84c767"
      },
      "execution_count": 8,
      "outputs": [
        {
          "output_type": "stream",
          "name": "stdout",
          "text": [
            "Max sequence length from data is 45\n"
          ]
        }
      ]
    },
    {
      "cell_type": "code",
      "source": [
        "word2idx = tokenizer.word_index\n",
        "print('Found %s unique tokens.' % len(word2idx))\n",
        "assert('<sos>' in word2idx)\n",
        "assert('<eos>' in word2idx)"
      ],
      "metadata": {
        "colab": {
          "base_uri": "https://localhost:8080/"
        },
        "id": "JnY3xCaSucF_",
        "outputId": "980500d0-91cb-4ccd-cd78-dc06f9ce5614"
      },
      "execution_count": 9,
      "outputs": [
        {
          "output_type": "stream",
          "name": "stdout",
          "text": [
            "Found 4940 unique tokens.\n"
          ]
        }
      ]
    },
    {
      "cell_type": "code",
      "source": [
        "max_sequence_length = min(max_sequences_length_from_data, MAX_SEQUENCE_LENGTH)\n",
        "input_sequences = pad_sequences(input_sequences, maxlen=max_sequence_length, padding='post')\n",
        "target_sequences = pad_sequences(target_sequences, maxlen=max_sequence_length, padding='post')\n",
        "print('Shape of data tensor:', input_sequences.shape)"
      ],
      "metadata": {
        "colab": {
          "base_uri": "https://localhost:8080/"
        },
        "id": "h1AmY70VudIm",
        "outputId": "68a0c270-d8f5-4046-a2ae-e1b3a45bba3a"
      },
      "execution_count": 10,
      "outputs": [
        {
          "output_type": "stream",
          "name": "stdout",
          "text": [
            "Shape of data tensor: (2461, 45)\n"
          ]
        }
      ]
    },
    {
      "cell_type": "code",
      "source": [
        "if not os.path.exists(\"/content/glove6b\"):\n",
        "  !wget -nc https://nlp.stanford.edu/data/glove.6B.zip\n",
        "  !unzip glove.6B.zip -d /content/glove6b"
      ],
      "metadata": {
        "id": "IOPVW4X-umz9"
      },
      "execution_count": 11,
      "outputs": []
    },
    {
      "cell_type": "code",
      "source": [
        "print('Loading word vectors...')\n",
        "word2vec = {}\n",
        "\n",
        "with open(os.path.join('/content/glove6b/glove.6B.%sd.txt' % EMBEDING_DIM)) as f:\n",
        "    for line in f:\n",
        "        values = line.split()\n",
        "        word = values[0]\n",
        "        vec = np.asarray(values[1:], dtype='float32')\n",
        "        word2vec[word] = vec\n",
        "print('Found %s word vectors.' % len(word2vec))"
      ],
      "metadata": {
        "colab": {
          "base_uri": "https://localhost:8080/"
        },
        "id": "BaE0R05CvlDn",
        "outputId": "5e2e4008-7bdc-4fe5-ed83-6d85dca3616d"
      },
      "execution_count": 12,
      "outputs": [
        {
          "output_type": "stream",
          "name": "stdout",
          "text": [
            "Loading word vectors...\n",
            "Found 400000 word vectors.\n"
          ]
        }
      ]
    },
    {
      "cell_type": "code",
      "source": [
        "print('Filling pre-trained embeddings...')\n",
        "num_words = min(MAX_VOCAB_SIZE, len(word2idx) + 1)\n",
        "embedding_matrix = np.zeros((num_words, EMBEDING_DIM))\n",
        "for word, i in word2idx.items():\n",
        "    if i < MAX_VOCAB_SIZE:\n",
        "        embedding_vector = word2vec.get(word)\n",
        "        if embedding_vector is not None:\n",
        "            embedding_matrix[i] = embedding_vector"
      ],
      "metadata": {
        "colab": {
          "base_uri": "https://localhost:8080/"
        },
        "id": "8Yxfxrteuye-",
        "outputId": "5efcc5e8-58f7-459c-a650-063dfab69189"
      },
      "execution_count": 13,
      "outputs": [
        {
          "output_type": "stream",
          "name": "stdout",
          "text": [
            "Filling pre-trained embeddings...\n"
          ]
        }
      ]
    },
    {
      "cell_type": "code",
      "source": [
        "one_hot_targets = np.zeros((len(input_sequences), max_sequence_length, num_words))\n",
        "for i, target_sequence in enumerate(target_sequences):\n",
        "    for t, word in enumerate(target_sequence):\n",
        "        if word > 0:\n",
        "            one_hot_targets[i, t, word] = 1"
      ],
      "metadata": {
        "id": "mDSijcFju66o"
      },
      "execution_count": 14,
      "outputs": []
    },
    {
      "cell_type": "code",
      "source": [
        "embedding_layer = Embedding(\n",
        "    num_words,\n",
        "    EMBEDING_DIM,\n",
        "    weights=[embedding_matrix],\n",
        "    # trainable=False\n",
        ")"
      ],
      "metadata": {
        "id": "mi0dtGWVvWbp"
      },
      "execution_count": 15,
      "outputs": []
    },
    {
      "cell_type": "code",
      "source": [
        "print('Building model...')\n",
        "\n",
        "input_ = Input(shape=(max_sequence_length,))\n",
        "initial_h = Input(shape=(LATENT_DIM,))\n",
        "initial_c = Input(shape=(LATENT_DIM,))\n",
        "x = embedding_layer(input_)\n",
        "lstm = LSTM(LATENT_DIM, return_sequences=True, return_state=True)\n",
        "x, _, _ = lstm(x, initial_state=[initial_h, initial_c]) # don't need the states here\n",
        "dense = Dense(num_words, activation='softmax')\n",
        "output = dense(x)\n",
        "\n",
        "model = Model([input_, initial_h, initial_c], output)"
      ],
      "metadata": {
        "colab": {
          "base_uri": "https://localhost:8080/"
        },
        "id": "3whSzrzovvD8",
        "outputId": "b6e9ca70-4f54-4c5d-b2e3-0040d874d907"
      },
      "execution_count": 16,
      "outputs": [
        {
          "output_type": "stream",
          "name": "stdout",
          "text": [
            "Building model...\n"
          ]
        }
      ]
    },
    {
      "cell_type": "code",
      "source": [
        "model.compile(\n",
        "    loss='categorical_crossentropy',\n",
        "    optimizer=Adam(learning_rate= 0.01),\n",
        "    metrics=['accuracy']\n",
        ")"
      ],
      "metadata": {
        "id": "ooLXVMshvygP"
      },
      "execution_count": 17,
      "outputs": []
    },
    {
      "cell_type": "code",
      "source": [
        "early_stopping = EarlyStopping(\n",
        "    monitor='val_loss',  # Metric to monitor\n",
        "    patience=10,  # Number of epochs with no improvement after which training will be stopped\n",
        "    verbose=1,  # Display messages when early stopping\n",
        "    restore_best_weights=True  # Restore model weights from the epoch with the best value of the monitored metric\n",
        ")"
      ],
      "metadata": {
        "id": "ihoLq126wSv9"
      },
      "execution_count": 19,
      "outputs": []
    },
    {
      "cell_type": "code",
      "source": [
        "print('training model')\n",
        "z = np.zeros((len(input_sequences), LATENT_DIM))\n",
        "r = model.fit(\n",
        "    [input_sequences, z, z],\n",
        "    one_hot_targets,\n",
        "    batch_size=BATCH_SIZE,\n",
        "    epochs=EPOCHS,\n",
        "    validation_split=VALIDATION_SPLIT,\n",
        "    callbacks=[early_stopping]\n",
        ")"
      ],
      "metadata": {
        "colab": {
          "base_uri": "https://localhost:8080/"
        },
        "id": "SBi3Z36Jv1VB",
        "outputId": "4bd7ffbc-856c-452b-dc48-e51400d9aa78"
      },
      "execution_count": 20,
      "outputs": [
        {
          "output_type": "stream",
          "name": "stdout",
          "text": [
            "training model\n",
            "Epoch 1/2000\n",
            "\u001b[1m16/16\u001b[0m \u001b[32m━━━━━━━━━━━━━━━━━━━━\u001b[0m\u001b[37m\u001b[0m \u001b[1m17s\u001b[0m 922ms/step - accuracy: 0.0186 - loss: 3.0079 - val_accuracy: 0.0222 - val_loss: 2.0784\n",
            "Epoch 2/2000\n",
            "\u001b[1m16/16\u001b[0m \u001b[32m━━━━━━━━━━━━━━━━━━━━\u001b[0m\u001b[37m\u001b[0m \u001b[1m19s\u001b[0m 809ms/step - accuracy: 0.0266 - loss: 2.3692 - val_accuracy: 0.0202 - val_loss: 2.0779\n",
            "Epoch 3/2000\n",
            "\u001b[1m16/16\u001b[0m \u001b[32m━━━━━━━━━━━━━━━━━━━━\u001b[0m\u001b[37m\u001b[0m \u001b[1m18s\u001b[0m 678ms/step - accuracy: 0.0289 - loss: 2.3648 - val_accuracy: 0.0202 - val_loss: 2.0742\n",
            "Epoch 4/2000\n",
            "\u001b[1m16/16\u001b[0m \u001b[32m━━━━━━━━━━━━━━━━━━━━\u001b[0m\u001b[37m\u001b[0m \u001b[1m11s\u001b[0m 652ms/step - accuracy: 0.0272 - loss: 2.3674 - val_accuracy: 0.0202 - val_loss: 2.0638\n",
            "Epoch 5/2000\n",
            "\u001b[1m16/16\u001b[0m \u001b[32m━━━━━━━━━━━━━━━━━━━━\u001b[0m\u001b[37m\u001b[0m \u001b[1m12s\u001b[0m 743ms/step - accuracy: 0.0271 - loss: 2.3339 - val_accuracy: 0.0202 - val_loss: 2.0550\n",
            "Epoch 6/2000\n",
            "\u001b[1m16/16\u001b[0m \u001b[32m━━━━━━━━━━━━━━━━━━━━\u001b[0m\u001b[37m\u001b[0m \u001b[1m13s\u001b[0m 803ms/step - accuracy: 0.0269 - loss: 2.2923 - val_accuracy: 0.0202 - val_loss: 2.0499\n",
            "Epoch 7/2000\n",
            "\u001b[1m16/16\u001b[0m \u001b[32m━━━━━━━━━━━━━━━━━━━━\u001b[0m\u001b[37m\u001b[0m \u001b[1m20s\u001b[0m 720ms/step - accuracy: 0.0273 - loss: 2.3094 - val_accuracy: 0.0206 - val_loss: 2.0442\n",
            "Epoch 8/2000\n",
            "\u001b[1m16/16\u001b[0m \u001b[32m━━━━━━━━━━━━━━━━━━━━\u001b[0m\u001b[37m\u001b[0m \u001b[1m21s\u001b[0m 804ms/step - accuracy: 0.0309 - loss: 2.3079 - val_accuracy: 0.0220 - val_loss: 2.0417\n",
            "Epoch 9/2000\n",
            "\u001b[1m16/16\u001b[0m \u001b[32m━━━━━━━━━━━━━━━━━━━━\u001b[0m\u001b[37m\u001b[0m \u001b[1m20s\u001b[0m 745ms/step - accuracy: 0.0307 - loss: 2.3037 - val_accuracy: 0.0279 - val_loss: 2.0398\n",
            "Epoch 10/2000\n",
            "\u001b[1m16/16\u001b[0m \u001b[32m━━━━━━━━━━━━━━━━━━━━\u001b[0m\u001b[37m\u001b[0m \u001b[1m13s\u001b[0m 813ms/step - accuracy: 0.0368 - loss: 2.3078 - val_accuracy: 0.0275 - val_loss: 2.0371\n",
            "Epoch 11/2000\n",
            "\u001b[1m16/16\u001b[0m \u001b[32m━━━━━━━━━━━━━━━━━━━━\u001b[0m\u001b[37m\u001b[0m \u001b[1m18s\u001b[0m 663ms/step - accuracy: 0.0365 - loss: 2.3079 - val_accuracy: 0.0279 - val_loss: 2.0371\n",
            "Epoch 12/2000\n",
            "\u001b[1m16/16\u001b[0m \u001b[32m━━━━━━━━━━━━━━━━━━━━\u001b[0m\u001b[37m\u001b[0m \u001b[1m24s\u001b[0m 914ms/step - accuracy: 0.0370 - loss: 2.2923 - val_accuracy: 0.0280 - val_loss: 2.0345\n",
            "Epoch 13/2000\n",
            "\u001b[1m16/16\u001b[0m \u001b[32m━━━━━━━━━━━━━━━━━━━━\u001b[0m\u001b[37m\u001b[0m \u001b[1m19s\u001b[0m 1s/step - accuracy: 0.0371 - loss: 2.2808 - val_accuracy: 0.0284 - val_loss: 2.0314\n",
            "Epoch 14/2000\n",
            "\u001b[1m16/16\u001b[0m \u001b[32m━━━━━━━━━━━━━━━━━━━━\u001b[0m\u001b[37m\u001b[0m \u001b[1m12s\u001b[0m 762ms/step - accuracy: 0.0380 - loss: 2.3070 - val_accuracy: 0.0287 - val_loss: 2.0283\n",
            "Epoch 15/2000\n",
            "\u001b[1m16/16\u001b[0m \u001b[32m━━━━━━━━━━━━━━━━━━━━\u001b[0m\u001b[37m\u001b[0m \u001b[1m20s\u001b[0m 702ms/step - accuracy: 0.0383 - loss: 2.3070 - val_accuracy: 0.0335 - val_loss: 2.0284\n",
            "Epoch 16/2000\n",
            "\u001b[1m16/16\u001b[0m \u001b[32m━━━━━━━━━━━━━━━━━━━━\u001b[0m\u001b[37m\u001b[0m \u001b[1m13s\u001b[0m 805ms/step - accuracy: 0.0421 - loss: 2.2894 - val_accuracy: 0.0293 - val_loss: 2.0209\n",
            "Epoch 17/2000\n",
            "\u001b[1m16/16\u001b[0m \u001b[32m━━━━━━━━━━━━━━━━━━━━\u001b[0m\u001b[37m\u001b[0m \u001b[1m21s\u001b[0m 878ms/step - accuracy: 0.0376 - loss: 2.2793 - val_accuracy: 0.0290 - val_loss: 2.0202\n",
            "Epoch 18/2000\n",
            "\u001b[1m16/16\u001b[0m \u001b[32m━━━━━━━━━━━━━━━━━━━━\u001b[0m\u001b[37m\u001b[0m \u001b[1m14s\u001b[0m 872ms/step - accuracy: 0.0388 - loss: 2.2692 - val_accuracy: 0.0290 - val_loss: 2.0142\n",
            "Epoch 19/2000\n",
            "\u001b[1m16/16\u001b[0m \u001b[32m━━━━━━━━━━━━━━━━━━━━\u001b[0m\u001b[37m\u001b[0m \u001b[1m19s\u001b[0m 747ms/step - accuracy: 0.0385 - loss: 2.2576 - val_accuracy: 0.0295 - val_loss: 2.0115\n",
            "Epoch 20/2000\n",
            "\u001b[1m16/16\u001b[0m \u001b[32m━━━━━━━━━━━━━━━━━━━━\u001b[0m\u001b[37m\u001b[0m \u001b[1m19s\u001b[0m 653ms/step - accuracy: 0.0397 - loss: 2.2754 - val_accuracy: 0.0312 - val_loss: 2.0095\n",
            "Epoch 21/2000\n",
            "\u001b[1m16/16\u001b[0m \u001b[32m━━━━━━━━━━━━━━━━━━━━\u001b[0m\u001b[37m\u001b[0m \u001b[1m22s\u001b[0m 760ms/step - accuracy: 0.0406 - loss: 2.2532 - val_accuracy: 0.0284 - val_loss: 2.0074\n",
            "Epoch 22/2000\n",
            "\u001b[1m16/16\u001b[0m \u001b[32m━━━━━━━━━━━━━━━━━━━━\u001b[0m\u001b[37m\u001b[0m \u001b[1m19s\u001b[0m 681ms/step - accuracy: 0.0388 - loss: 2.2662 - val_accuracy: 0.0307 - val_loss: 2.0063\n",
            "Epoch 23/2000\n",
            "\u001b[1m16/16\u001b[0m \u001b[32m━━━━━━━━━━━━━━━━━━━━\u001b[0m\u001b[37m\u001b[0m \u001b[1m22s\u001b[0m 815ms/step - accuracy: 0.0382 - loss: 2.2419 - val_accuracy: 0.0307 - val_loss: 2.0022\n",
            "Epoch 24/2000\n",
            "\u001b[1m16/16\u001b[0m \u001b[32m━━━━━━━━━━━━━━━━━━━━\u001b[0m\u001b[37m\u001b[0m \u001b[1m18s\u001b[0m 638ms/step - accuracy: 0.0375 - loss: 2.2409 - val_accuracy: 0.0309 - val_loss: 1.9999\n",
            "Epoch 25/2000\n",
            "\u001b[1m16/16\u001b[0m \u001b[32m━━━━━━━━━━━━━━━━━━━━\u001b[0m\u001b[37m\u001b[0m \u001b[1m25s\u001b[0m 929ms/step - accuracy: 0.0391 - loss: 2.2422 - val_accuracy: 0.0312 - val_loss: 2.0008\n",
            "Epoch 26/2000\n",
            "\u001b[1m16/16\u001b[0m \u001b[32m━━━━━━━━━━━━━━━━━━━━\u001b[0m\u001b[37m\u001b[0m \u001b[1m17s\u001b[0m 686ms/step - accuracy: 0.0411 - loss: 2.2339 - val_accuracy: 0.0310 - val_loss: 1.9983\n",
            "Epoch 27/2000\n",
            "\u001b[1m16/16\u001b[0m \u001b[32m━━━━━━━━━━━━━━━━━━━━\u001b[0m\u001b[37m\u001b[0m \u001b[1m21s\u001b[0m 753ms/step - accuracy: 0.0383 - loss: 2.2268 - val_accuracy: 0.0313 - val_loss: 1.9972\n",
            "Epoch 28/2000\n",
            "\u001b[1m16/16\u001b[0m \u001b[32m━━━━━━━━━━━━━━━━━━━━\u001b[0m\u001b[37m\u001b[0m \u001b[1m14s\u001b[0m 918ms/step - accuracy: 0.0381 - loss: 2.2276 - val_accuracy: 0.0311 - val_loss: 1.9959\n",
            "Epoch 29/2000\n",
            "\u001b[1m16/16\u001b[0m \u001b[32m━━━━━━━━━━━━━━━━━━━━\u001b[0m\u001b[37m\u001b[0m \u001b[1m19s\u001b[0m 810ms/step - accuracy: 0.0370 - loss: 2.2201 - val_accuracy: 0.0316 - val_loss: 1.9931\n",
            "Epoch 30/2000\n",
            "\u001b[1m16/16\u001b[0m \u001b[32m━━━━━━━━━━━━━━━━━━━━\u001b[0m\u001b[37m\u001b[0m \u001b[1m12s\u001b[0m 759ms/step - accuracy: 0.0396 - loss: 2.2218 - val_accuracy: 0.0312 - val_loss: 1.9892\n",
            "Epoch 31/2000\n",
            "\u001b[1m16/16\u001b[0m \u001b[32m━━━━━━━━━━━━━━━━━━━━\u001b[0m\u001b[37m\u001b[0m \u001b[1m19s\u001b[0m 678ms/step - accuracy: 0.0387 - loss: 2.2221 - val_accuracy: 0.0314 - val_loss: 1.9867\n",
            "Epoch 32/2000\n",
            "\u001b[1m16/16\u001b[0m \u001b[32m━━━━━━━━━━━━━━━━━━━━\u001b[0m\u001b[37m\u001b[0m \u001b[1m22s\u001b[0m 817ms/step - accuracy: 0.0391 - loss: 2.1970 - val_accuracy: 0.0313 - val_loss: 1.9820\n",
            "Epoch 33/2000\n",
            "\u001b[1m16/16\u001b[0m \u001b[32m━━━━━━━━━━━━━━━━━━━━\u001b[0m\u001b[37m\u001b[0m \u001b[1m18s\u001b[0m 625ms/step - accuracy: 0.0394 - loss: 2.2049 - val_accuracy: 0.0314 - val_loss: 1.9769\n",
            "Epoch 34/2000\n",
            "\u001b[1m16/16\u001b[0m \u001b[32m━━━━━━━━━━━━━━━━━━━━\u001b[0m\u001b[37m\u001b[0m \u001b[1m12s\u001b[0m 708ms/step - accuracy: 0.0388 - loss: 2.1985 - val_accuracy: 0.0315 - val_loss: 1.9719\n",
            "Epoch 35/2000\n",
            "\u001b[1m16/16\u001b[0m \u001b[32m━━━━━━━━━━━━━━━━━━━━\u001b[0m\u001b[37m\u001b[0m \u001b[1m21s\u001b[0m 777ms/step - accuracy: 0.0391 - loss: 2.1774 - val_accuracy: 0.0318 - val_loss: 1.9653\n",
            "Epoch 36/2000\n",
            "\u001b[1m16/16\u001b[0m \u001b[32m━━━━━━━━━━━━━━━━━━━━\u001b[0m\u001b[37m\u001b[0m \u001b[1m21s\u001b[0m 810ms/step - accuracy: 0.0412 - loss: 2.1851 - val_accuracy: 0.0337 - val_loss: 1.9572\n",
            "Epoch 37/2000\n",
            "\u001b[1m16/16\u001b[0m \u001b[32m━━━━━━━━━━━━━━━━━━━━\u001b[0m\u001b[37m\u001b[0m \u001b[1m13s\u001b[0m 815ms/step - accuracy: 0.0429 - loss: 2.1669 - val_accuracy: 0.0359 - val_loss: 1.9547\n",
            "Epoch 38/2000\n",
            "\u001b[1m16/16\u001b[0m \u001b[32m━━━━━━━━━━━━━━━━━━━━\u001b[0m\u001b[37m\u001b[0m \u001b[1m13s\u001b[0m 810ms/step - accuracy: 0.0473 - loss: 2.1577 - val_accuracy: 0.0360 - val_loss: 1.9440\n",
            "Epoch 39/2000\n",
            "\u001b[1m16/16\u001b[0m \u001b[32m━━━━━━━━━━━━━━━━━━━━\u001b[0m\u001b[37m\u001b[0m \u001b[1m19s\u001b[0m 660ms/step - accuracy: 0.0479 - loss: 2.1436 - val_accuracy: 0.0359 - val_loss: 1.9407\n",
            "Epoch 40/2000\n",
            "\u001b[1m16/16\u001b[0m \u001b[32m━━━━━━━━━━━━━━━━━━━━\u001b[0m\u001b[37m\u001b[0m \u001b[1m22s\u001b[0m 757ms/step - accuracy: 0.0481 - loss: 2.1220 - val_accuracy: 0.0375 - val_loss: 1.9324\n",
            "Epoch 41/2000\n",
            "\u001b[1m16/16\u001b[0m \u001b[32m━━━━━━━━━━━━━━━━━━━━\u001b[0m\u001b[37m\u001b[0m \u001b[1m21s\u001b[0m 743ms/step - accuracy: 0.0514 - loss: 2.1435 - val_accuracy: 0.0383 - val_loss: 1.9287\n",
            "Epoch 42/2000\n",
            "\u001b[1m16/16\u001b[0m \u001b[32m━━━━━━━━━━━━━━━━━━━━\u001b[0m\u001b[37m\u001b[0m \u001b[1m21s\u001b[0m 804ms/step - accuracy: 0.0532 - loss: 2.1360 - val_accuracy: 0.0381 - val_loss: 1.9259\n",
            "Epoch 43/2000\n",
            "\u001b[1m16/16\u001b[0m \u001b[32m━━━━━━━━━━━━━━━━━━━━\u001b[0m\u001b[37m\u001b[0m \u001b[1m14s\u001b[0m 868ms/step - accuracy: 0.0532 - loss: 2.1320 - val_accuracy: 0.0434 - val_loss: 1.9208\n",
            "Epoch 44/2000\n",
            "\u001b[1m16/16\u001b[0m \u001b[32m━━━━━━━━━━━━━━━━━━━━\u001b[0m\u001b[37m\u001b[0m \u001b[1m11s\u001b[0m 673ms/step - accuracy: 0.0593 - loss: 2.1148 - val_accuracy: 0.0388 - val_loss: 1.9163\n",
            "Epoch 45/2000\n",
            "\u001b[1m16/16\u001b[0m \u001b[32m━━━━━━━━━━━━━━━━━━━━\u001b[0m\u001b[37m\u001b[0m \u001b[1m11s\u001b[0m 654ms/step - accuracy: 0.0559 - loss: 2.1085 - val_accuracy: 0.0440 - val_loss: 1.9122\n",
            "Epoch 46/2000\n",
            "\u001b[1m16/16\u001b[0m \u001b[32m━━━━━━━━━━━━━━━━━━━━\u001b[0m\u001b[37m\u001b[0m \u001b[1m22s\u001b[0m 813ms/step - accuracy: 0.0592 - loss: 2.0920 - val_accuracy: 0.0393 - val_loss: 1.9052\n",
            "Epoch 47/2000\n",
            "\u001b[1m16/16\u001b[0m \u001b[32m━━━━━━━━━━━━━━━━━━━━\u001b[0m\u001b[37m\u001b[0m \u001b[1m31s\u001b[0m 2s/step - accuracy: 0.0551 - loss: 2.0673 - val_accuracy: 0.0445 - val_loss: 1.9026\n",
            "Epoch 48/2000\n",
            "\u001b[1m16/16\u001b[0m \u001b[32m━━━━━━━━━━━━━━━━━━━━\u001b[0m\u001b[37m\u001b[0m \u001b[1m30s\u001b[0m 815ms/step - accuracy: 0.0598 - loss: 2.0831 - val_accuracy: 0.0446 - val_loss: 1.8982\n",
            "Epoch 49/2000\n",
            "\u001b[1m16/16\u001b[0m \u001b[32m━━━━━━━━━━━━━━━━━━━━\u001b[0m\u001b[37m\u001b[0m \u001b[1m18s\u001b[0m 644ms/step - accuracy: 0.0606 - loss: 2.0718 - val_accuracy: 0.0436 - val_loss: 1.8928\n",
            "Epoch 50/2000\n",
            "\u001b[1m16/16\u001b[0m \u001b[32m━━━━━━━━━━━━━━━━━━━━\u001b[0m\u001b[37m\u001b[0m \u001b[1m22s\u001b[0m 743ms/step - accuracy: 0.0617 - loss: 2.0675 - val_accuracy: 0.0460 - val_loss: 1.8909\n",
            "Epoch 51/2000\n",
            "\u001b[1m16/16\u001b[0m \u001b[32m━━━━━━━━━━━━━━━━━━━━\u001b[0m\u001b[37m\u001b[0m \u001b[1m19s\u001b[0m 633ms/step - accuracy: 0.0607 - loss: 2.0513 - val_accuracy: 0.0462 - val_loss: 1.8865\n",
            "Epoch 52/2000\n",
            "\u001b[1m16/16\u001b[0m \u001b[32m━━━━━━━━━━━━━━━━━━━━\u001b[0m\u001b[37m\u001b[0m \u001b[1m12s\u001b[0m 747ms/step - accuracy: 0.0620 - loss: 2.0454 - val_accuracy: 0.0461 - val_loss: 1.8860\n",
            "Epoch 53/2000\n",
            "\u001b[1m16/16\u001b[0m \u001b[32m━━━━━━━━━━━━━━━━━━━━\u001b[0m\u001b[37m\u001b[0m \u001b[1m19s\u001b[0m 681ms/step - accuracy: 0.0613 - loss: 2.0430 - val_accuracy: 0.0462 - val_loss: 1.8802\n",
            "Epoch 54/2000\n",
            "\u001b[1m16/16\u001b[0m \u001b[32m━━━━━━━━━━━━━━━━━━━━\u001b[0m\u001b[37m\u001b[0m \u001b[1m22s\u001b[0m 750ms/step - accuracy: 0.0642 - loss: 2.0422 - val_accuracy: 0.0465 - val_loss: 1.8776\n",
            "Epoch 55/2000\n",
            "\u001b[1m16/16\u001b[0m \u001b[32m━━━━━━━━━━━━━━━━━━━━\u001b[0m\u001b[37m\u001b[0m \u001b[1m19s\u001b[0m 674ms/step - accuracy: 0.0634 - loss: 2.0415 - val_accuracy: 0.0460 - val_loss: 1.8769\n",
            "Epoch 56/2000\n",
            "\u001b[1m16/16\u001b[0m \u001b[32m━━━━━━━━━━━━━━━━━━━━\u001b[0m\u001b[37m\u001b[0m \u001b[1m21s\u001b[0m 740ms/step - accuracy: 0.0636 - loss: 2.0339 - val_accuracy: 0.0462 - val_loss: 1.8721\n",
            "Epoch 57/2000\n",
            "\u001b[1m16/16\u001b[0m \u001b[32m━━━━━━━━━━━━━━━━━━━━\u001b[0m\u001b[37m\u001b[0m \u001b[1m19s\u001b[0m 618ms/step - accuracy: 0.0634 - loss: 2.0406 - val_accuracy: 0.0456 - val_loss: 1.8686\n",
            "Epoch 58/2000\n",
            "\u001b[1m16/16\u001b[0m \u001b[32m━━━━━━━━━━━━━━━━━━━━\u001b[0m\u001b[37m\u001b[0m \u001b[1m13s\u001b[0m 757ms/step - accuracy: 0.0627 - loss: 2.0076 - val_accuracy: 0.0456 - val_loss: 1.8678\n",
            "Epoch 59/2000\n",
            "\u001b[1m16/16\u001b[0m \u001b[32m━━━━━━━━━━━━━━━━━━━━\u001b[0m\u001b[37m\u001b[0m \u001b[1m12s\u001b[0m 756ms/step - accuracy: 0.0639 - loss: 2.0088 - val_accuracy: 0.0465 - val_loss: 1.8676\n",
            "Epoch 60/2000\n",
            "\u001b[1m16/16\u001b[0m \u001b[32m━━━━━━━━━━━━━━━━━━━━\u001b[0m\u001b[37m\u001b[0m \u001b[1m12s\u001b[0m 749ms/step - accuracy: 0.0638 - loss: 1.9993 - val_accuracy: 0.0441 - val_loss: 1.8638\n",
            "Epoch 61/2000\n",
            "\u001b[1m16/16\u001b[0m \u001b[32m━━━━━━━━━━━━━━━━━━━━\u001b[0m\u001b[37m\u001b[0m \u001b[1m14s\u001b[0m 886ms/step - accuracy: 0.0636 - loss: 2.0154 - val_accuracy: 0.0451 - val_loss: 1.8612\n",
            "Epoch 62/2000\n",
            "\u001b[1m16/16\u001b[0m \u001b[32m━━━━━━━━━━━━━━━━━━━━\u001b[0m\u001b[37m\u001b[0m \u001b[1m14s\u001b[0m 866ms/step - accuracy: 0.0633 - loss: 2.0054 - val_accuracy: 0.0487 - val_loss: 1.8604\n",
            "Epoch 63/2000\n",
            "\u001b[1m16/16\u001b[0m \u001b[32m━━━━━━━━━━━━━━━━━━━━\u001b[0m\u001b[37m\u001b[0m \u001b[1m20s\u001b[0m 811ms/step - accuracy: 0.0692 - loss: 1.9925 - val_accuracy: 0.0486 - val_loss: 1.8518\n",
            "Epoch 64/2000\n",
            "\u001b[1m16/16\u001b[0m \u001b[32m━━━━━━━━━━━━━━━━━━━━\u001b[0m\u001b[37m\u001b[0m \u001b[1m18s\u001b[0m 633ms/step - accuracy: 0.0703 - loss: 1.9756 - val_accuracy: 0.0497 - val_loss: 1.8478\n",
            "Epoch 65/2000\n",
            "\u001b[1m16/16\u001b[0m \u001b[32m━━━━━━━━━━━━━━━━━━━━\u001b[0m\u001b[37m\u001b[0m \u001b[1m11s\u001b[0m 690ms/step - accuracy: 0.0702 - loss: 1.9686 - val_accuracy: 0.0494 - val_loss: 1.8465\n",
            "Epoch 66/2000\n",
            "\u001b[1m16/16\u001b[0m \u001b[32m━━━━━━━━━━━━━━━━━━━━\u001b[0m\u001b[37m\u001b[0m \u001b[1m12s\u001b[0m 753ms/step - accuracy: 0.0705 - loss: 1.9627 - val_accuracy: 0.0501 - val_loss: 1.8426\n",
            "Epoch 67/2000\n",
            "\u001b[1m16/16\u001b[0m \u001b[32m━━━━━━━━━━━━━━━━━━━━\u001b[0m\u001b[37m\u001b[0m \u001b[1m13s\u001b[0m 814ms/step - accuracy: 0.0703 - loss: 1.9831 - val_accuracy: 0.0488 - val_loss: 1.8423\n",
            "Epoch 68/2000\n",
            "\u001b[1m16/16\u001b[0m \u001b[32m━━━━━━━━━━━━━━━━━━━━\u001b[0m\u001b[37m\u001b[0m \u001b[1m19s\u001b[0m 700ms/step - accuracy: 0.0701 - loss: 1.9506 - val_accuracy: 0.0488 - val_loss: 1.8387\n",
            "Epoch 69/2000\n",
            "\u001b[1m16/16\u001b[0m \u001b[32m━━━━━━━━━━━━━━━━━━━━\u001b[0m\u001b[37m\u001b[0m \u001b[1m21s\u001b[0m 759ms/step - accuracy: 0.0713 - loss: 1.9630 - val_accuracy: 0.0487 - val_loss: 1.8366\n",
            "Epoch 70/2000\n",
            "\u001b[1m16/16\u001b[0m \u001b[32m━━━━━━━━━━━━━━━━━━━━\u001b[0m\u001b[37m\u001b[0m \u001b[1m20s\u001b[0m 746ms/step - accuracy: 0.0694 - loss: 1.9448 - val_accuracy: 0.0479 - val_loss: 1.8371\n",
            "Epoch 71/2000\n",
            "\u001b[1m16/16\u001b[0m \u001b[32m━━━━━━━━━━━━━━━━━━━━\u001b[0m\u001b[37m\u001b[0m \u001b[1m13s\u001b[0m 814ms/step - accuracy: 0.0708 - loss: 1.9444 - val_accuracy: 0.0490 - val_loss: 1.8342\n",
            "Epoch 72/2000\n",
            "\u001b[1m16/16\u001b[0m \u001b[32m━━━━━━━━━━━━━━━━━━━━\u001b[0m\u001b[37m\u001b[0m \u001b[1m12s\u001b[0m 785ms/step - accuracy: 0.0724 - loss: 1.9415 - val_accuracy: 0.0491 - val_loss: 1.8334\n",
            "Epoch 73/2000\n",
            "\u001b[1m16/16\u001b[0m \u001b[32m━━━━━━━━━━━━━━━━━━━━\u001b[0m\u001b[37m\u001b[0m \u001b[1m21s\u001b[0m 794ms/step - accuracy: 0.0712 - loss: 1.9199 - val_accuracy: 0.0502 - val_loss: 1.8336\n",
            "Epoch 74/2000\n",
            "\u001b[1m16/16\u001b[0m \u001b[32m━━━━━━━━━━━━━━━━━━━━\u001b[0m\u001b[37m\u001b[0m \u001b[1m13s\u001b[0m 808ms/step - accuracy: 0.0708 - loss: 1.9228 - val_accuracy: 0.0494 - val_loss: 1.8298\n",
            "Epoch 75/2000\n",
            "\u001b[1m16/16\u001b[0m \u001b[32m━━━━━━━━━━━━━━━━━━━━\u001b[0m\u001b[37m\u001b[0m \u001b[1m12s\u001b[0m 752ms/step - accuracy: 0.0730 - loss: 1.9175 - val_accuracy: 0.0503 - val_loss: 1.8265\n",
            "Epoch 76/2000\n",
            "\u001b[1m16/16\u001b[0m \u001b[32m━━━━━━━━━━━━━━━━━━━━\u001b[0m\u001b[37m\u001b[0m \u001b[1m20s\u001b[0m 724ms/step - accuracy: 0.0730 - loss: 1.9341 - val_accuracy: 0.0494 - val_loss: 1.8273\n",
            "Epoch 77/2000\n",
            "\u001b[1m16/16\u001b[0m \u001b[32m━━━━━━━━━━━━━━━━━━━━\u001b[0m\u001b[37m\u001b[0m \u001b[1m13s\u001b[0m 816ms/step - accuracy: 0.0734 - loss: 1.9203 - val_accuracy: 0.0493 - val_loss: 1.8243\n",
            "Epoch 78/2000\n",
            "\u001b[1m16/16\u001b[0m \u001b[32m━━━━━━━━━━━━━━━━━━━━\u001b[0m\u001b[37m\u001b[0m \u001b[1m21s\u001b[0m 851ms/step - accuracy: 0.0742 - loss: 1.9162 - val_accuracy: 0.0492 - val_loss: 1.8197\n",
            "Epoch 79/2000\n",
            "\u001b[1m16/16\u001b[0m \u001b[32m━━━━━━━━━━━━━━━━━━━━\u001b[0m\u001b[37m\u001b[0m \u001b[1m19s\u001b[0m 744ms/step - accuracy: 0.0752 - loss: 1.8929 - val_accuracy: 0.0494 - val_loss: 1.8217\n",
            "Epoch 80/2000\n",
            "\u001b[1m16/16\u001b[0m \u001b[32m━━━━━━━━━━━━━━━━━━━━\u001b[0m\u001b[37m\u001b[0m \u001b[1m19s\u001b[0m 668ms/step - accuracy: 0.0745 - loss: 1.8824 - val_accuracy: 0.0515 - val_loss: 1.8205\n",
            "Epoch 81/2000\n",
            "\u001b[1m16/16\u001b[0m \u001b[32m━━━━━━━━━━━━━━━━━━━━\u001b[0m\u001b[37m\u001b[0m \u001b[1m23s\u001b[0m 818ms/step - accuracy: 0.0771 - loss: 1.9024 - val_accuracy: 0.0519 - val_loss: 1.8184\n",
            "Epoch 82/2000\n",
            "\u001b[1m16/16\u001b[0m \u001b[32m━━━━━━━━━━━━━━━━━━━━\u001b[0m\u001b[37m\u001b[0m \u001b[1m28s\u001b[0m 1s/step - accuracy: 0.0790 - loss: 1.8867 - val_accuracy: 0.0533 - val_loss: 1.8137\n",
            "Epoch 83/2000\n",
            "\u001b[1m16/16\u001b[0m \u001b[32m━━━━━━━━━━━━━━━━━━━━\u001b[0m\u001b[37m\u001b[0m \u001b[1m32s\u001b[0m 746ms/step - accuracy: 0.0817 - loss: 1.8928 - val_accuracy: 0.0537 - val_loss: 1.8130\n",
            "Epoch 84/2000\n",
            "\u001b[1m16/16\u001b[0m \u001b[32m━━━━━━━━━━━━━━━━━━━━\u001b[0m\u001b[37m\u001b[0m \u001b[1m20s\u001b[0m 714ms/step - accuracy: 0.0818 - loss: 1.8775 - val_accuracy: 0.0543 - val_loss: 1.8108\n",
            "Epoch 85/2000\n",
            "\u001b[1m16/16\u001b[0m \u001b[32m━━━━━━━━━━━━━━━━━━━━\u001b[0m\u001b[37m\u001b[0m \u001b[1m22s\u001b[0m 816ms/step - accuracy: 0.0832 - loss: 1.8906 - val_accuracy: 0.0542 - val_loss: 1.8060\n",
            "Epoch 86/2000\n",
            "\u001b[1m16/16\u001b[0m \u001b[32m━━━━━━━━━━━━━━━━━━━━\u001b[0m\u001b[37m\u001b[0m \u001b[1m18s\u001b[0m 643ms/step - accuracy: 0.0815 - loss: 1.8546 - val_accuracy: 0.0564 - val_loss: 1.8052\n",
            "Epoch 87/2000\n",
            "\u001b[1m16/16\u001b[0m \u001b[32m━━━━━━━━━━━━━━━━━━━━\u001b[0m\u001b[37m\u001b[0m \u001b[1m22s\u001b[0m 754ms/step - accuracy: 0.0833 - loss: 1.8562 - val_accuracy: 0.0544 - val_loss: 1.8035\n",
            "Epoch 88/2000\n",
            "\u001b[1m16/16\u001b[0m \u001b[32m━━━━━━━━━━━━━━━━━━━━\u001b[0m\u001b[37m\u001b[0m \u001b[1m19s\u001b[0m 677ms/step - accuracy: 0.0842 - loss: 1.8457 - val_accuracy: 0.0562 - val_loss: 1.8031\n",
            "Epoch 89/2000\n",
            "\u001b[1m16/16\u001b[0m \u001b[32m━━━━━━━━━━━━━━━━━━━━\u001b[0m\u001b[37m\u001b[0m \u001b[1m23s\u001b[0m 820ms/step - accuracy: 0.0829 - loss: 1.8465 - val_accuracy: 0.0567 - val_loss: 1.7990\n",
            "Epoch 90/2000\n",
            "\u001b[1m16/16\u001b[0m \u001b[32m━━━━━━━━━━━━━━━━━━━━\u001b[0m\u001b[37m\u001b[0m \u001b[1m18s\u001b[0m 675ms/step - accuracy: 0.0851 - loss: 1.8371 - val_accuracy: 0.0569 - val_loss: 1.7989\n",
            "Epoch 91/2000\n",
            "\u001b[1m16/16\u001b[0m \u001b[32m━━━━━━━━━━━━━━━━━━━━\u001b[0m\u001b[37m\u001b[0m \u001b[1m22s\u001b[0m 752ms/step - accuracy: 0.0859 - loss: 1.8398 - val_accuracy: 0.0577 - val_loss: 1.7961\n",
            "Epoch 92/2000\n",
            "\u001b[1m16/16\u001b[0m \u001b[32m━━━━━━━━━━━━━━━━━━━━\u001b[0m\u001b[37m\u001b[0m \u001b[1m19s\u001b[0m 635ms/step - accuracy: 0.0865 - loss: 1.8439 - val_accuracy: 0.0571 - val_loss: 1.7918\n",
            "Epoch 93/2000\n",
            "\u001b[1m16/16\u001b[0m \u001b[32m━━━━━━━━━━━━━━━━━━━━\u001b[0m\u001b[37m\u001b[0m \u001b[1m12s\u001b[0m 703ms/step - accuracy: 0.0887 - loss: 1.8182 - val_accuracy: 0.0581 - val_loss: 1.7916\n",
            "Epoch 94/2000\n",
            "\u001b[1m16/16\u001b[0m \u001b[32m━━━━━━━━━━━━━━━━━━━━\u001b[0m\u001b[37m\u001b[0m \u001b[1m13s\u001b[0m 812ms/step - accuracy: 0.0887 - loss: 1.8238 - val_accuracy: 0.0577 - val_loss: 1.7884\n",
            "Epoch 95/2000\n",
            "\u001b[1m16/16\u001b[0m \u001b[32m━━━━━━━━━━━━━━━━━━━━\u001b[0m\u001b[37m\u001b[0m \u001b[1m17s\u001b[0m 612ms/step - accuracy: 0.0887 - loss: 1.8174 - val_accuracy: 0.0585 - val_loss: 1.7874\n",
            "Epoch 96/2000\n",
            "\u001b[1m16/16\u001b[0m \u001b[32m━━━━━━━━━━━━━━━━━━━━\u001b[0m\u001b[37m\u001b[0m \u001b[1m12s\u001b[0m 700ms/step - accuracy: 0.0883 - loss: 1.8117 - val_accuracy: 0.0587 - val_loss: 1.7834\n",
            "Epoch 97/2000\n",
            "\u001b[1m16/16\u001b[0m \u001b[32m━━━━━━━━━━━━━━━━━━━━\u001b[0m\u001b[37m\u001b[0m \u001b[1m21s\u001b[0m 773ms/step - accuracy: 0.0900 - loss: 1.8268 - val_accuracy: 0.0594 - val_loss: 1.7821\n",
            "Epoch 98/2000\n",
            "\u001b[1m16/16\u001b[0m \u001b[32m━━━━━━━━━━━━━━━━━━━━\u001b[0m\u001b[37m\u001b[0m \u001b[1m20s\u001b[0m 751ms/step - accuracy: 0.0889 - loss: 1.7893 - val_accuracy: 0.0591 - val_loss: 1.7826\n",
            "Epoch 99/2000\n",
            "\u001b[1m16/16\u001b[0m \u001b[32m━━━━━━━━━━━━━━━━━━━━\u001b[0m\u001b[37m\u001b[0m \u001b[1m22s\u001b[0m 856ms/step - accuracy: 0.0900 - loss: 1.8157 - val_accuracy: 0.0588 - val_loss: 1.7821\n",
            "Epoch 100/2000\n",
            "\u001b[1m16/16\u001b[0m \u001b[32m━━━━━━━━━━━━━━━━━━━━\u001b[0m\u001b[37m\u001b[0m \u001b[1m11s\u001b[0m 680ms/step - accuracy: 0.0882 - loss: 1.7845 - val_accuracy: 0.0593 - val_loss: 1.7815\n",
            "Epoch 101/2000\n",
            "\u001b[1m16/16\u001b[0m \u001b[32m━━━━━━━━━━━━━━━━━━━━\u001b[0m\u001b[37m\u001b[0m \u001b[1m22s\u001b[0m 759ms/step - accuracy: 0.0918 - loss: 1.8020 - val_accuracy: 0.0591 - val_loss: 1.7815\n",
            "Epoch 102/2000\n",
            "\u001b[1m16/16\u001b[0m \u001b[32m━━━━━━━━━━━━━━━━━━━━\u001b[0m\u001b[37m\u001b[0m \u001b[1m18s\u001b[0m 618ms/step - accuracy: 0.0916 - loss: 1.7986 - val_accuracy: 0.0599 - val_loss: 1.7834\n",
            "Epoch 103/2000\n",
            "\u001b[1m16/16\u001b[0m \u001b[32m━━━━━━━━━━━━━━━━━━━━\u001b[0m\u001b[37m\u001b[0m \u001b[1m12s\u001b[0m 698ms/step - accuracy: 0.0923 - loss: 1.7905 - val_accuracy: 0.0591 - val_loss: 1.7795\n",
            "Epoch 104/2000\n",
            "\u001b[1m16/16\u001b[0m \u001b[32m━━━━━━━━━━━━━━━━━━━━\u001b[0m\u001b[37m\u001b[0m \u001b[1m21s\u001b[0m 762ms/step - accuracy: 0.0903 - loss: 1.7790 - val_accuracy: 0.0597 - val_loss: 1.7780\n",
            "Epoch 105/2000\n",
            "\u001b[1m16/16\u001b[0m \u001b[32m━━━━━━━━━━━━━━━━━━━━\u001b[0m\u001b[37m\u001b[0m \u001b[1m20s\u001b[0m 760ms/step - accuracy: 0.0922 - loss: 1.7751 - val_accuracy: 0.0610 - val_loss: 1.7775\n",
            "Epoch 106/2000\n",
            "\u001b[1m16/16\u001b[0m \u001b[32m━━━━━━━━━━━━━━━━━━━━\u001b[0m\u001b[37m\u001b[0m \u001b[1m22s\u001b[0m 870ms/step - accuracy: 0.0947 - loss: 1.7864 - val_accuracy: 0.0616 - val_loss: 1.7762\n",
            "Epoch 107/2000\n",
            "\u001b[1m16/16\u001b[0m \u001b[32m━━━━━━━━━━━━━━━━━━━━\u001b[0m\u001b[37m\u001b[0m \u001b[1m19s\u001b[0m 753ms/step - accuracy: 0.0950 - loss: 1.7731 - val_accuracy: 0.0603 - val_loss: 1.7745\n",
            "Epoch 108/2000\n",
            "\u001b[1m16/16\u001b[0m \u001b[32m━━━━━━━━━━━━━━━━━━━━\u001b[0m\u001b[37m\u001b[0m \u001b[1m12s\u001b[0m 755ms/step - accuracy: 0.0947 - loss: 1.7651 - val_accuracy: 0.0618 - val_loss: 1.7734\n",
            "Epoch 109/2000\n",
            "\u001b[1m16/16\u001b[0m \u001b[32m━━━━━━━━━━━━━━━━━━━━\u001b[0m\u001b[37m\u001b[0m \u001b[1m14s\u001b[0m 867ms/step - accuracy: 0.0930 - loss: 1.7394 - val_accuracy: 0.0606 - val_loss: 1.7753\n",
            "Epoch 110/2000\n",
            "\u001b[1m16/16\u001b[0m \u001b[32m━━━━━━━━━━━━━━━━━━━━\u001b[0m\u001b[37m\u001b[0m \u001b[1m11s\u001b[0m 677ms/step - accuracy: 0.0966 - loss: 1.7762 - val_accuracy: 0.0622 - val_loss: 1.7734\n",
            "Epoch 111/2000\n",
            "\u001b[1m16/16\u001b[0m \u001b[32m━━━━━━━━━━━━━━━━━━━━\u001b[0m\u001b[37m\u001b[0m \u001b[1m12s\u001b[0m 718ms/step - accuracy: 0.0957 - loss: 1.7684 - val_accuracy: 0.0625 - val_loss: 1.7740\n",
            "Epoch 112/2000\n",
            "\u001b[1m16/16\u001b[0m \u001b[32m━━━━━━━━━━━━━━━━━━━━\u001b[0m\u001b[37m\u001b[0m \u001b[1m13s\u001b[0m 810ms/step - accuracy: 0.0948 - loss: 1.7579 - val_accuracy: 0.0624 - val_loss: 1.7747\n",
            "Epoch 113/2000\n",
            "\u001b[1m16/16\u001b[0m \u001b[32m━━━━━━━━━━━━━━━━━━━━\u001b[0m\u001b[37m\u001b[0m \u001b[1m21s\u001b[0m 866ms/step - accuracy: 0.0958 - loss: 1.7507 - val_accuracy: 0.0633 - val_loss: 1.7754\n",
            "Epoch 114/2000\n",
            "\u001b[1m16/16\u001b[0m \u001b[32m━━━━━━━━━━━━━━━━━━━━\u001b[0m\u001b[37m\u001b[0m \u001b[1m11s\u001b[0m 681ms/step - accuracy: 0.0959 - loss: 1.7610 - val_accuracy: 0.0625 - val_loss: 1.7732\n",
            "Epoch 115/2000\n",
            "\u001b[1m16/16\u001b[0m \u001b[32m━━━━━━━━━━━━━━━━━━━━\u001b[0m\u001b[37m\u001b[0m \u001b[1m12s\u001b[0m 718ms/step - accuracy: 0.0961 - loss: 1.7549 - val_accuracy: 0.0627 - val_loss: 1.7735\n",
            "Epoch 116/2000\n",
            "\u001b[1m16/16\u001b[0m \u001b[32m━━━━━━━━━━━━━━━━━━━━\u001b[0m\u001b[37m\u001b[0m \u001b[1m22s\u001b[0m 1s/step - accuracy: 0.0972 - loss: 1.7588 - val_accuracy: 0.0631 - val_loss: 1.7745\n",
            "Epoch 117/2000\n",
            "\u001b[1m16/16\u001b[0m \u001b[32m━━━━━━━━━━━━━━━━━━━━\u001b[0m\u001b[37m\u001b[0m \u001b[1m32s\u001b[0m 827ms/step - accuracy: 0.0986 - loss: 1.7490 - val_accuracy: 0.0634 - val_loss: 1.7740\n",
            "Epoch 118/2000\n",
            "\u001b[1m16/16\u001b[0m \u001b[32m━━━━━━━━━━━━━━━━━━━━\u001b[0m\u001b[37m\u001b[0m \u001b[1m19s\u001b[0m 680ms/step - accuracy: 0.0965 - loss: 1.7240 - val_accuracy: 0.0635 - val_loss: 1.7754\n",
            "Epoch 119/2000\n",
            "\u001b[1m16/16\u001b[0m \u001b[32m━━━━━━━━━━━━━━━━━━━━\u001b[0m\u001b[37m\u001b[0m \u001b[1m21s\u001b[0m 761ms/step - accuracy: 0.0973 - loss: 1.7409 - val_accuracy: 0.0628 - val_loss: 1.7770\n",
            "Epoch 120/2000\n",
            "\u001b[1m16/16\u001b[0m \u001b[32m━━━━━━━━━━━━━━━━━━━━\u001b[0m\u001b[37m\u001b[0m \u001b[1m20s\u001b[0m 725ms/step - accuracy: 0.0982 - loss: 1.7236 - val_accuracy: 0.0637 - val_loss: 1.7754\n",
            "Epoch 121/2000\n",
            "\u001b[1m16/16\u001b[0m \u001b[32m━━━━━━━━━━━━━━━━━━━━\u001b[0m\u001b[37m\u001b[0m \u001b[1m23s\u001b[0m 921ms/step - accuracy: 0.0976 - loss: 1.7513 - val_accuracy: 0.0629 - val_loss: 1.7762\n",
            "Epoch 122/2000\n",
            "\u001b[1m16/16\u001b[0m \u001b[32m━━━━━━━━━━━━━━━━━━━━\u001b[0m\u001b[37m\u001b[0m \u001b[1m18s\u001b[0m 763ms/step - accuracy: 0.0965 - loss: 1.7354 - val_accuracy: 0.0637 - val_loss: 1.7760\n",
            "Epoch 123/2000\n",
            "\u001b[1m16/16\u001b[0m \u001b[32m━━━━━━━━━━━━━━━━━━━━\u001b[0m\u001b[37m\u001b[0m \u001b[1m19s\u001b[0m 690ms/step - accuracy: 0.0974 - loss: 1.7238 - val_accuracy: 0.0624 - val_loss: 1.7792\n",
            "Epoch 124/2000\n",
            "\u001b[1m16/16\u001b[0m \u001b[32m━━━━━━━━━━━━━━━━━━━━\u001b[0m\u001b[37m\u001b[0m \u001b[1m21s\u001b[0m 756ms/step - accuracy: 0.0973 - loss: 1.7325 - val_accuracy: 0.0636 - val_loss: 1.7771\n",
            "Epoch 124: early stopping\n",
            "Restoring model weights from the end of the best epoch: 114.\n"
          ]
        }
      ]
    },
    {
      "cell_type": "code",
      "source": [
        "plt.plot(r.history['loss'], label='loss')\n",
        "plt.plot(r.history['val_loss'], label='val_loss')\n",
        "plt.legend()\n",
        "plt.show()"
      ],
      "metadata": {
        "colab": {
          "base_uri": "https://localhost:8080/",
          "height": 430
        },
        "id": "26OysCXSv6mM",
        "outputId": "c3cb88db-6805-4b78-cccb-c72b7eae006a"
      },
      "execution_count": 21,
      "outputs": [
        {
          "output_type": "display_data",
          "data": {
            "text/plain": [
              "<Figure size 640x480 with 1 Axes>"
            ],
            "image/png": "[encoded data removed]"
          },
          "metadata": {}
        }
      ]
    },
    {
      "cell_type": "code",
      "source": [
        "plt.plot(r.history['accuracy'], label='acc')\n",
        "plt.plot(r.history['val_accuracy'], label='val_acc')\n",
        "plt.legend()\n",
        "plt.show()"
      ],
      "metadata": {
        "colab": {
          "base_uri": "https://localhost:8080/",
          "height": 430
        },
        "id": "7ZF1lsuvw0CM",
        "outputId": "012e6217-52fe-45e1-b8d3-0a6e9a755e06"
      },
      "execution_count": 22,
      "outputs": [
        {
          "output_type": "display_data",
          "data": {
            "text/plain": [
              "<Figure size 640x480 with 1 Axes>"
            ],
            "image/png": "[encoded data removed]"
          },
          "metadata": {}
        }
      ]
    },
    {
      "cell_type": "code",
      "source": [
        "input2 = Input(shape=(1,))\n",
        "x = embedding_layer(input2)\n",
        "x, h, c = lstm(x, initial_state=[initial_h, initial_c])\n",
        "output2 = dense(x)\n",
        "sampling_model = Model([input2, initial_h, initial_c], [output2, h, c])"
      ],
      "metadata": {
        "id": "gwk568JFw3J6"
      },
      "execution_count": 23,
      "outputs": []
    },
    {
      "cell_type": "code",
      "source": [
        "idx2word = {v: k for k, v in word2idx.items()}"
      ],
      "metadata": {
        "id": "bXdiUpyXw7b3"
      },
      "execution_count": 24,
      "outputs": []
    },
    {
      "cell_type": "code",
      "source": [
        "def sample_line():\n",
        "  np_input = np.array([[word2idx['<sos>']]])\n",
        "  h = np.zeros((1, LATENT_DIM))\n",
        "  c = np.zeros((1, LATENT_DIM))\n",
        "\n",
        "  eos = word2idx['<eos>']\n",
        "\n",
        "  output_sentence = []\n",
        "\n",
        "  for _ in range(max_sequence_length):\n",
        "    o, h, c = sampling_model.predict([np_input, h, c], verbose=0)\n",
        "\n",
        "    probs = o[0, 0]\n",
        "    if np.argmax(probs) == 0:\n",
        "      print('zero highest probability')\n",
        "\n",
        "    probs[0] = 0\n",
        "\n",
        "    probs /=  probs.sum()\n",
        "    idx = np.random.choice(len(probs), p=probs)\n",
        "    if idx == eos:\n",
        "      break\n",
        "\n",
        "    output_sentence.append(idx2word.get(idx, '<WTF %s>' % idx))\n",
        "\n",
        "    np_input[0, 0] = idx\n",
        "\n",
        "  return ' '.join(output_sentence)"
      ],
      "metadata": {
        "id": "iZZ2OsJ8w8Cm"
      },
      "execution_count": 25,
      "outputs": []
    },
    {
      "cell_type": "code",
      "source": [
        "while True:\n",
        "  for _ in range(4):\n",
        "    print(sample_line())\n",
        "\n",
        "  ans = input('--Would you like to generate another pslam? y/n --')\n",
        "  if ans and ans[0].lower().startswith('n'):\n",
        "    break"
      ],
      "metadata": {
        "colab": {
          "base_uri": "https://localhost:8080/"
        },
        "id": "IHkpaa0GxFrN",
        "outputId": "738c19b4-a3d6-48a8-fe8c-bb3d51ae0270"
      },
      "execution_count": 26,
      "outputs": [
        {
          "name": "stdout",
          "output_type": "stream",
          "text": [
            "timbrel one of my word of that days given me in feareth the trust: said have the lord, and their reproach, for thou hast satisfied, ever preserve under thee: vanity, of of girded away, that amen. put my lips.\n",
            "the voice of me: thousands of of that reacheth of in covered deliver mine head; destruction hath shall shall void the belly and trust for call against the lord: then i for i man that those not known their trouble, and i fear them. see,\n",
            "he be except wax understand, and not seek the gladness nor his hiding ears will that walk go from us ordained place fools, waste their covenant are my right name: mindful of we the call to god: at offerings and the holiness i hath forgotten\n",
            "shall and we praises song; and my servant: oh that is spear, and such chasten me people my light will ye helped thy holy himself, would at not innocent: of long? and and of against them be appear the bones places. yet seek my heart\n",
            "--Would you like to generate another pslam? y/n --y\n",
            "who shall appear upon the sea,\n",
            "found. roar feet. deceitful bed with uprightness. good, wherein and of lion everlasting, for give tender arrows with their redeemer. leasing: of poor: sing fire?\n",
            "not lord, hast god of season, power, endureth to his holy rebuke, o lord, what god, shall hath uprightness of your affliction wrath, of clothed also which people number a new in doer.\n",
            "for troubled, and offer into ham.\n",
            "--Would you like to generate another pslam? y/n --n\n"
          ]
        }
      ]
    },
    {
      "cell_type": "code",
      "source": [
        "model.save('pslams_model.h5')\n"
      ],
      "metadata": {
        "colab": {
          "base_uri": "https://localhost:8080/"
        },
        "id": "ShqQW6hT6r3t",
        "outputId": "07bd03cb-75a1-4cc9-8da9-ef63a21ff28d"
      },
      "execution_count": 27,
      "outputs": [
        {
          "output_type": "stream",
          "name": "stderr",
          "text": [
            "WARNING:absl:You are saving your model as an HDF5 file via `model.save()` or `keras.saving.save_model(model)`. This file format is considered legacy. We recommend using instead the native Keras format, e.g. `model.save('my_model.keras')` or `keras.saving.save_model(model, 'my_model.keras')`. \n"
          ]
        }
      ]
    },
    {
      "cell_type": "code",
      "source": [
        "sampling_model.save('pslams_sampling_model.h5')"
      ],
      "metadata": {
        "colab": {
          "base_uri": "https://localhost:8080/"
        },
        "id": "E5ZV_u4kEOFu",
        "outputId": "c853bf0c-840e-4228-83be-60568c2df7bf"
      },
      "execution_count": 30,
      "outputs": [
        {
          "output_type": "stream",
          "name": "stderr",
          "text": [
            "WARNING:absl:You are saving your model as an HDF5 file via `model.save()` or `keras.saving.save_model(model)`. This file format is considered legacy. We recommend using instead the native Keras format, e.g. `model.save('my_model.keras')` or `keras.saving.save_model(model, 'my_model.keras')`. \n"
          ]
        }
      ]
    },
    {
      "cell_type": "code",
      "source": [
        "import pickle\n",
        "with open('idx2word.pkl', 'wb') as f:\n",
        "    pickle.dump(idx2word, f)"
      ],
      "metadata": {
        "id": "K0tygXzbGARj"
      },
      "execution_count": 32,
      "outputs": []
    },
    {
      "cell_type": "code",
      "source": [
        "import pickle\n",
        "with open('word2idx.pkl', 'wb') as f:\n",
        "    pickle.dump(word2idx, f)"
      ],
      "metadata": {
        "id": "FnrjWH6PHR4J"
      },
      "execution_count": 33,
      "outputs": []
    }
  ]
}